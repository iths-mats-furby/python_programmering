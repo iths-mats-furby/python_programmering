{
 "cells": [
  {
   "cell_type": "markdown",
   "metadata": {},
   "source": [
    "# Conventions\n",
    "\n",
    "### In this section, we will go through some of the conventions when it comes to coding in Python\n",
    "\n",
    "### You will be introduced to more conventions as the course is moving forward\n",
    "\n",
    "### How these conventions are used are all shown in the conventions.py script\n",
    "\n",
    "### After this lecture, you should read the PEP8 summaries, found at https://www.python.org/dev/peps/pep-0008/"
   ]
  },
  {
   "cell_type": "markdown",
   "metadata": {},
   "source": [
    "# - When we name variables, we choose descriptive names and use snake_case"
   ]
  },
  {
   "cell_type": "code",
   "execution_count": 1,
   "metadata": {},
   "outputs": [
    {
     "name": "stdout",
     "output_type": "stream",
     "text": [
      "3 2\n"
     ]
    }
   ],
   "source": [
    "# When writing code, one of the main things with Python as a language, is that it needs to be readable\n",
    "# What does readable mean?\n",
    "\n",
    "q = [\"apple\", \"banana\", \"pear\", \"dragon fruit\", \"orange\", \"tomato\"]\n",
    "m = [\"cucumber\", \"green salad\", \"fennel\", \"garlic\", \"onion\", \"squash\"]\n",
    "s = [\"apple\", \"tomato\", \"green salad\", \"garlic\", \"banana\"]\n",
    "\n",
    "j =0\n",
    "l = 0\n",
    "for a in range(5):\n",
    "    if s[a] in q:\n",
    "        j += 1\n",
    "    elif s[a] in m:\n",
    "        l += 1\n",
    "\n",
    "print(j, l)\n",
    "# Is it easy to see what the code does? Are the variable names descriptive? Not really..."
   ]
  },
  {
   "cell_type": "code",
   "execution_count": 1,
   "metadata": {},
   "outputs": [],
   "source": [
    "fruits = [\"apple\", \"banana\", \"pear\", \"dragon fruit\", \"orange\", \"tomato\"]\n",
    "vegetables = [\"cucumber\", \"green salad\", \"fennel\", \"garlic\", \"onion\", \"squash\"]\n",
    "my_fridge = [\"apple\", \"tomato\", \"green salad\", \"garlic\", \"banana\"]\n",
    "\n",
    "number_of_fruits = 0\n",
    "number_of_vegetables = 0\n",
    "for item in my_fridge:\n",
    "    if item in fruits:\n",
    "        number_of_fruits += 1\n",
    "    if item in vegetables:\n",
    "        number_of_vegetables += 1"
   ]
  },
  {
   "cell_type": "markdown",
   "metadata": {},
   "source": [
    "# - When we use indentations, each indentation level is comprised of exactly 4 spaces. We do *NOT* use tabs."
   ]
  },
  {
   "cell_type": "code",
   "execution_count": 3,
   "metadata": {},
   "outputs": [
    {
     "name": "stdout",
     "output_type": "stream",
     "text": [
      "This is 4 spaces\n"
     ]
    }
   ],
   "source": [
    "for i in range(1):\n",
    "    print(\"This is 4 spaces\")"
   ]
  },
  {
   "cell_type": "markdown",
   "metadata": {},
   "source": [
    "# - In .py scripts, we use main methods"
   ]
  },
  {
   "cell_type": "code",
   "execution_count": 4,
   "metadata": {},
   "outputs": [
    {
     "name": "stdout",
     "output_type": "stream",
     "text": [
      "This method name should always be main, and it should always be called from the if-statement like so\n"
     ]
    }
   ],
   "source": [
    "def main():\n",
    "    print(\"This method name should always be main, and it should always be called from the if-statement like so\")\n",
    "\n",
    "if __name__ == \"__main__\":\n",
    "    main()"
   ]
  },
  {
   "cell_type": "markdown",
   "metadata": {},
   "source": [
    "# - When we write functions, we use type hints according to the standard introduced with Python 3.5 and onwards "
   ]
  },
  {
   "cell_type": "code",
   "execution_count": 3,
   "metadata": {},
   "outputs": [
    {
     "data": {
      "text/plain": [
       "['hello', 1]"
      ]
     },
     "execution_count": 3,
     "metadata": {},
     "output_type": "execute_result"
    }
   ],
   "source": [
    "def some_method_with_args(one_string: str, one_int: int) -> list:\n",
    "    mixed_list = [one_string, one_int]\n",
    "    return mixed_list\n",
    "\n",
    "some_method_with_args(\"hello\", 1)"
   ]
  },
  {
   "cell_type": "markdown",
   "metadata": {},
   "source": [
    "# - When we write functions, we make sure that each function has a docstring that is up-to-date with how the code is working"
   ]
  },
  {
   "cell_type": "code",
   "execution_count": 4,
   "metadata": {},
   "outputs": [
    {
     "data": {
      "text/plain": [
       "['hello', 1]"
      ]
     },
     "execution_count": 4,
     "metadata": {},
     "output_type": "execute_result"
    }
   ],
   "source": [
    "def some_method_with_args(one_string: str, one_int: int) -> list:\n",
    "    \"\"\"This is a method that takes two inputs and concatenates them into a mixed list\n",
    "\n",
    "    Args:\n",
    "        one_string (str): The string that is first in the list\n",
    "        one_int (int): The integer value that is last in the list\n",
    "\n",
    "    Returns:\n",
    "        list: A list of the inputs\n",
    "    \"\"\"\n",
    "    \n",
    "    mixed_list = [one_string, one_int]\n",
    "    return mixed_list\n",
    "\n",
    "some_method_with_args(\"hello\", 1)\n",
    "\n",
    "# If you are using VSCode, there are extensions to generate half a docstring automatically!\n",
    "# You can use this one: njpwerner.autodocstring"
   ]
  },
  {
   "cell_type": "markdown",
   "metadata": {},
   "source": [
    "# - When we catch exceptions we always specify the exeption that we intend to catch!"
   ]
  },
  {
   "cell_type": "code",
   "execution_count": 7,
   "metadata": {},
   "outputs": [],
   "source": [
    "def string_comparison_method(first_string: str, second_string: str):\n",
    "    \"\"\" This is a string that explains what the method does. It is called docstring.\n",
    "    In this method we compare two strings to see if the content is the same\n",
    "    \n",
    "    Args:\n",
    "        first_string (str): the first string to be compared\n",
    "        second_string (str): the second string to be compared\n",
    "    \"\"\"\n",
    "    try:\n",
    "        if first_string.lower() == second_string.lower():\n",
    "            print(\"The strings are saying the same thing! :)\")\n",
    "        else:\n",
    "            print(\"The strings are not saying the same thing.. :(\")\n",
    "    except AttributeError: # <------------------------------------------- like this!\n",
    "        print(\"Hmm, one of your entries were not a string at all :(\")"
   ]
  },
  {
   "cell_type": "code",
   "execution_count": null,
   "metadata": {},
   "outputs": [],
   "source": []
  }
 ],
 "metadata": {
  "interpreter": {
   "hash": "49725ab178c4c102e1441d76205f429a43d78f45cae77ce22318dfb9d7e7bd6b"
  },
  "kernelspec": {
   "display_name": "Python 3.8.10 64-bit ('ec-python-course': conda)",
   "name": "python3"
  },
  "language_info": {
   "codemirror_mode": {
    "name": "ipython",
    "version": 3
   },
   "file_extension": ".py",
   "mimetype": "text/x-python",
   "name": "python",
   "nbconvert_exporter": "python",
   "pygments_lexer": "ipython3",
   "version": "3.9.7"
  },
  "orig_nbformat": 4
 },
 "nbformat": 4,
 "nbformat_minor": 2
}
