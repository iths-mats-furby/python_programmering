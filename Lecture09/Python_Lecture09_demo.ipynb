{
 "cells": [
  {
   "cell_type": "markdown",
   "id": "normal-combat",
   "metadata": {},
   "source": [
    "# Classes in python\n",
    "\n",
    "1. Write a simple class Thing\n",
    "    - Set attributes\n",
    "    - Write a public method \n",
    "    - Write a 'private' method\n",
    "    - Use self as reference\n",
    "2. Inspect class from outside\n",
    "3. Write a class Animal\n",
    "4. Write a subclass tamagotchi\n",
    "    - Use super\n",
    "    - override a method\n",
    "    - methods: play, is_hungry, give_food\n",
    "5. @staticmethod listanimals"
   ]
  },
  {
   "cell_type": "markdown",
   "id": "critical-guarantee",
   "metadata": {},
   "source": [
    "## Class syntax\n",
    "\n",
    "- All methods belonging to a class should be tab indented\n",
    "- All class methods must have the self reference as the first argument\n",
    "- To call a method or an attribute from within the class, use the self reference\n",
    "    - e.g self.function() or self.attribute\n",
    "    \n"
   ]
  },
  {
   "cell_type": "code",
   "execution_count": 1,
   "id": "sharing-wells",
   "metadata": {},
   "outputs": [],
   "source": [
    "class Thing():\n",
    "\n",
    "    def __init__(self, name):\n",
    "        self.name = name\n",
    "        \n",
    "    def say_name(self):\n",
    "        text = self._helper_func()\n",
    "        print(text)\n",
    "        \n",
    "    def _helper_func(self):\n",
    "        return f'My name is {self.name}'"
   ]
  },
  {
   "cell_type": "code",
   "execution_count": 2,
   "id": "boxed-monte",
   "metadata": {},
   "outputs": [],
   "source": [
    "thing1 = Thing(name='Alex')\n",
    "thing2 = Thing(name='Isabella')"
   ]
  },
  {
   "cell_type": "code",
   "execution_count": 3,
   "id": "continuing-infrared",
   "metadata": {},
   "outputs": [
    {
     "name": "stdout",
     "output_type": "stream",
     "text": [
      "My name is Alex\n"
     ]
    }
   ],
   "source": [
    "thing1.say_name()"
   ]
  },
  {
   "cell_type": "markdown",
   "id": "extra-princess",
   "metadata": {},
   "source": [
    "## Inspect an object from the outside\n",
    "\n",
    "- type()\n",
    "- isinstance()\n",
    "- dir()"
   ]
  },
  {
   "cell_type": "code",
   "execution_count": 4,
   "id": "portuguese-infrastructure",
   "metadata": {},
   "outputs": [
    {
     "data": {
      "text/plain": [
       "['__class__',\n",
       " '__delattr__',\n",
       " '__dict__',\n",
       " '__dir__',\n",
       " '__doc__',\n",
       " '__eq__',\n",
       " '__format__',\n",
       " '__ge__',\n",
       " '__getattribute__',\n",
       " '__gt__',\n",
       " '__hash__',\n",
       " '__init__',\n",
       " '__init_subclass__',\n",
       " '__le__',\n",
       " '__lt__',\n",
       " '__module__',\n",
       " '__ne__',\n",
       " '__new__',\n",
       " '__reduce__',\n",
       " '__reduce_ex__',\n",
       " '__repr__',\n",
       " '__setattr__',\n",
       " '__sizeof__',\n",
       " '__str__',\n",
       " '__subclasshook__',\n",
       " '__weakref__',\n",
       " '_helper_func',\n",
       " 'name',\n",
       " 'say_name']"
      ]
     },
     "execution_count": 4,
     "metadata": {},
     "output_type": "execute_result"
    }
   ],
   "source": [
    "dir(thing1)"
   ]
  },
  {
   "cell_type": "markdown",
   "id": "wicked-pioneer",
   "metadata": {},
   "source": [
    "## Writing a class Animal\n",
    "\n",
    "Attributes:\n",
    "- species: str\n",
    "- energy: int\n",
    "\n",
    "Methods:\n",
    "- make_noise\n",
    "- _sleep\n",
    "- feed\n",
    "\n"
   ]
  },
  {
   "cell_type": "code",
   "execution_count": 6,
   "id": "variable-width",
   "metadata": {},
   "outputs": [],
   "source": [
    "class Animal:\n",
    "    \n",
    "    def __init__(self, species:str):\n",
    "        self.species = species\n",
    "        self.energy = 5\n",
    "\n",
    "    def make_noise(self):\n",
    "        self.energy -= 1\n",
    "        print('*animal is making noise*')\n",
    "        \n",
    "    def feed(self):\n",
    "        self.energy += 3"
   ]
  },
  {
   "cell_type": "code",
   "execution_count": 10,
   "id": "cellular-democrat",
   "metadata": {},
   "outputs": [
    {
     "name": "stdout",
     "output_type": "stream",
     "text": [
      "*animal is making noise*\n",
      "Energy: 4\n",
      "Energy: 7\n"
     ]
    }
   ],
   "source": [
    "animal = Animal('wolf')\n",
    "animal.make_noise()\n",
    "print('Energy:', animal.energy)\n",
    "animal.feed()\n",
    "print('Energy:', animal.energy)"
   ]
  },
  {
   "cell_type": "markdown",
   "id": "continuous-muscle",
   "metadata": {},
   "source": [
    "## Write a subclass dog \n",
    "\n",
    "- Use super\n",
    "- override a method\n",
    "- methods: play, is_hungry, feed\n",
    "\n",
    "Write a subclass dog\n",
    "Use super\n",
    "override a method\n",
    "methods: play, is_hungry, give_food"
   ]
  },
  {
   "cell_type": "code",
   "execution_count": 11,
   "id": "seeing-sacrifice",
   "metadata": {},
   "outputs": [],
   "source": [
    "class Dog(Animal):\n",
    "    \n",
    "    def __init__(self):\n",
    "        super().__init__(species='dog')\n",
    "        \n",
    "    \n",
    "    def make_noise(self):\n",
    "        self.energy -= 1\n",
    "        print('Woof woof')\n",
    "        \n",
    "    def play(self):\n",
    "        print('The dog is playing happily')\n",
    "        self.energy -= 2"
   ]
  },
  {
   "cell_type": "code",
   "execution_count": 12,
   "id": "human-defense",
   "metadata": {},
   "outputs": [
    {
     "data": {
      "text/plain": [
       "['__class__',\n",
       " '__delattr__',\n",
       " '__dict__',\n",
       " '__dir__',\n",
       " '__doc__',\n",
       " '__eq__',\n",
       " '__format__',\n",
       " '__ge__',\n",
       " '__getattribute__',\n",
       " '__gt__',\n",
       " '__hash__',\n",
       " '__init__',\n",
       " '__init_subclass__',\n",
       " '__le__',\n",
       " '__lt__',\n",
       " '__module__',\n",
       " '__ne__',\n",
       " '__new__',\n",
       " '__reduce__',\n",
       " '__reduce_ex__',\n",
       " '__repr__',\n",
       " '__setattr__',\n",
       " '__sizeof__',\n",
       " '__str__',\n",
       " '__subclasshook__',\n",
       " '__weakref__',\n",
       " 'energy',\n",
       " 'feed',\n",
       " 'make_noise',\n",
       " 'play',\n",
       " 'species']"
      ]
     },
     "execution_count": 12,
     "metadata": {},
     "output_type": "execute_result"
    }
   ],
   "source": [
    "dog = Dog()\n",
    "dir(dog)"
   ]
  },
  {
   "cell_type": "code",
   "execution_count": 14,
   "id": "fe840cae",
   "metadata": {},
   "outputs": [
    {
     "name": "stdout",
     "output_type": "stream",
     "text": [
      "Woof woof\n",
      "Energy: 3\n",
      "The dog is playing happily\n",
      "Energy: 1\n"
     ]
    }
   ],
   "source": [
    "dog.make_noise()\n",
    "print('Energy:', dog.energy)\n",
    "dog.play()\n",
    "print('Energy:', dog.energy)"
   ]
  },
  {
   "cell_type": "markdown",
   "id": "secret-capital",
   "metadata": {},
   "source": [
    "## Classes Rectangle and Square"
   ]
  },
  {
   "cell_type": "code",
   "execution_count": 18,
   "id": "chubby-turkey",
   "metadata": {},
   "outputs": [],
   "source": [
    "class Rectangle():\n",
    "    \"\"\" Class describing the properties of a rectangle\"\"\"\n",
    "\n",
    "    def __init__(self, width, height):\n",
    "        self.width = width\n",
    "        self.height = height\n",
    "        \n",
    "    def get_area(self):\n",
    "        return self.width * self.height\n",
    "    \n",
    "class Square(Rectangle):\n",
    "    \"\"\" Subclass of Rectangel describing the properties of a square\"\"\"\n",
    "    def __init__(self, side):\n",
    "        super().__init__(width=side, height=side) # Overwriting the__init__ of Rectangle"
   ]
  },
  {
   "cell_type": "code",
   "execution_count": 22,
   "id": "broad-japanese",
   "metadata": {},
   "outputs": [
    {
     "name": "stdout",
     "output_type": "stream",
     "text": [
      "15\n",
      "25\n"
     ]
    }
   ],
   "source": [
    "rectangle = Rectangle(width = 5, height=3)\n",
    "print(rectangle.get_area())\n",
    "\n",
    "square = Square(side=5)\n",
    "print(square.get_area())"
   ]
  },
  {
   "cell_type": "markdown",
   "id": "measured-guest",
   "metadata": {},
   "source": [
    "## The @staticmethod\n"
   ]
  },
  {
   "cell_type": "code",
   "execution_count": 35,
   "id": "broke-interaction",
   "metadata": {},
   "outputs": [],
   "source": [
    "class Animal:\n",
    "    def __init__(self, species):\n",
    "        self.species = species\n",
    "    \n",
    "    def list_animals2(self):\n",
    "        print(['björn', 'katt', 'hund'])\n",
    "         \n",
    "    def func(self):\n",
    "        text = 'hej'\n",
    "        return text\n",
    "\n",
    "    @staticmethod\n",
    "    def list_animals():\n",
    "        print(['björn', 'katt', 'hund'])"
   ]
  },
  {
   "cell_type": "code",
   "execution_count": 38,
   "id": "romantic-dispute",
   "metadata": {},
   "outputs": [
    {
     "name": "stdout",
     "output_type": "stream",
     "text": [
      "['björn', 'katt', 'hund']\n"
     ]
    }
   ],
   "source": [
    "# An instance of the class is not needed when the static method is called\n",
    "Animal.list_animals()"
   ]
  },
  {
   "cell_type": "code",
   "execution_count": 48,
   "metadata": {},
   "outputs": [
    {
     "ename": "TypeError",
     "evalue": "list_animals2() missing 1 required positional argument: 'self'",
     "output_type": "error",
     "traceback": [
      "\u001b[0;31m---------------------------------------------------------------------------\u001b[0m",
      "\u001b[0;31mTypeError\u001b[0m                                 Traceback (most recent call last)",
      "\u001b[0;32m/var/folders/82/t5bg_f9n6k9_ytn11s_ych740000gn/T/ipykernel_93168/3572198392.py\u001b[0m in \u001b[0;36m<module>\u001b[0;34m\u001b[0m\n\u001b[1;32m      1\u001b[0m \u001b[0;31m# For comparison, this will not run\u001b[0m\u001b[0;34m\u001b[0m\u001b[0;34m\u001b[0m\u001b[0m\n\u001b[0;32m----> 2\u001b[0;31m \u001b[0mAnimal\u001b[0m\u001b[0;34m.\u001b[0m\u001b[0mlist_animals2\u001b[0m\u001b[0;34m(\u001b[0m\u001b[0;34m)\u001b[0m\u001b[0;34m\u001b[0m\u001b[0;34m\u001b[0m\u001b[0m\n\u001b[0m",
      "\u001b[0;31mTypeError\u001b[0m: list_animals2() missing 1 required positional argument: 'self'"
     ]
    }
   ],
   "source": [
    "# For comparison, this will not run\n",
    "Animal.list_animals2()"
   ]
  },
  {
   "cell_type": "code",
   "execution_count": 51,
   "id": "66eb9215",
   "metadata": {},
   "outputs": [
    {
     "name": "stdout",
     "output_type": "stream",
     "text": [
      "['björn', 'katt', 'hund']\n"
     ]
    }
   ],
   "source": [
    "# But this will run\n",
    "a = Animal('hund')\n",
    "a.list_animals2()"
   ]
  },
  {
   "cell_type": "code",
   "execution_count": 53,
   "id": "desperate-invasion",
   "metadata": {},
   "outputs": [
    {
     "name": "stdout",
     "output_type": "stream",
     "text": [
      "['björn', 'katt', 'hund']\n"
     ]
    }
   ],
   "source": [
    "# Static method can be used regularly\n",
    "a = Animal('hund')\n",
    "a.list_animals()"
   ]
  },
  {
   "cell_type": "code",
   "execution_count": 57,
   "id": "aggressive-piano",
   "metadata": {},
   "outputs": [
    {
     "name": "stdout",
     "output_type": "stream",
     "text": [
      "björn\n"
     ]
    }
   ],
   "source": [
    "a1 = Animal(species='björn')\n",
    "print(a1.species)"
   ]
  },
  {
   "cell_type": "code",
   "execution_count": 58,
   "id": "arctic-empty",
   "metadata": {},
   "outputs": [
    {
     "name": "stdout",
     "output_type": "stream",
     "text": [
      "lodjur\n"
     ]
    }
   ],
   "source": [
    "a1.species = 'lodjur'\n",
    "print(a1.species)"
   ]
  }
 ],
 "metadata": {
  "interpreter": {
   "hash": "6114b2ecdb3dbf269466423d7f8a4c7ea08a980c6108a678dde6d7f806f98fb1"
  },
  "kernelspec": {
   "display_name": "Python [conda env:testenv] *",
   "language": "python",
   "name": "python3"
  },
  "language_info": {
   "codemirror_mode": {
    "name": "ipython",
    "version": 3
   },
   "file_extension": ".py",
   "mimetype": "text/x-python",
   "name": "python",
   "nbconvert_exporter": "python",
   "pygments_lexer": "ipython3",
   "version": "3.9.7"
  }
 },
 "nbformat": 4,
 "nbformat_minor": 5
}
