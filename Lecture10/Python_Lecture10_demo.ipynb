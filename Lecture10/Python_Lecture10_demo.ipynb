{
 "cells": [
  {
   "cell_type": "code",
   "execution_count": 6,
   "id": "external-briefing",
   "metadata": {},
   "outputs": [],
   "source": [
    "import sqlite3\n",
    "import pandas as pd"
   ]
  },
  {
   "cell_type": "code",
   "execution_count": 10,
   "id": "civic-voice",
   "metadata": {},
   "outputs": [],
   "source": [
    "db = sqlite3.connect('Data/testdb.db')\n",
    "cur = db.cursor()"
   ]
  },
  {
   "cell_type": "markdown",
   "id": "auburn-orchestra",
   "metadata": {},
   "source": [
    "## Column constraints\n",
    "\n",
    "\n",
    "- PRIMARY KEY = NOT NULL + UNIQUE\n",
    "- NOT NULL\n",
    "- UNIQUE\n",
    "- FOREIGN KEY"
   ]
  },
  {
   "cell_type": "code",
   "execution_count": 11,
   "id": "suburban-deficit",
   "metadata": {},
   "outputs": [
    {
     "data": {
      "text/plain": [
       "<sqlite3.Cursor at 0x7feed819a960>"
      ]
     },
     "execution_count": 11,
     "metadata": {},
     "output_type": "execute_result"
    }
   ],
   "source": [
    "cur.execute(\"\"\"CREATE TABLE IF NOT EXISTS store(\n",
    "id integer PRIMARY KEY,\n",
    "name text) \"\"\")\n",
    "\n",
    "\n",
    "cur.execute(\"\"\"CREATE TABLE IF NOT EXISTS sales(\n",
    "id integer PRIMARY KEY,\n",
    "store_id integer,\n",
    "FOREIGN KEY (store_id) REFERENCES store (id))\"\"\")\n",
    "\n"
   ]
  },
  {
   "cell_type": "code",
   "execution_count": 12,
   "id": "numeric-warehouse",
   "metadata": {},
   "outputs": [],
   "source": [
    "cur.execute(\"\"\"INSERT INTO store VALUES(2, 'Ica') \"\"\")\n",
    "db.commit()"
   ]
  },
  {
   "cell_type": "markdown",
   "id": "configured-experience",
   "metadata": {},
   "source": [
    "## pandas\n",
    "\n",
    "Vi kan använda pandas för att ladda in data från en relationsdatabas med SQL. Detta kan vara nödvändigt när man måste koppla upp sig till en stor databas där mäbngden data är för stor för att ha i datorns RAM-minne.\n",
    "\n",
    "Vi börjar med att spara ner en dataframe till en databas som vi sedan kan använda för att testa detta"
   ]
  },
  {
   "cell_type": "code",
   "execution_count": 15,
   "id": "joined-county",
   "metadata": {},
   "outputs": [
    {
     "data": {
      "text/html": [
       "<div>\n",
       "<style scoped>\n",
       "    .dataframe tbody tr th:only-of-type {\n",
       "        vertical-align: middle;\n",
       "    }\n",
       "\n",
       "    .dataframe tbody tr th {\n",
       "        vertical-align: top;\n",
       "    }\n",
       "\n",
       "    .dataframe thead th {\n",
       "        text-align: right;\n",
       "    }\n",
       "</style>\n",
       "<table border=\"1\" class=\"dataframe\">\n",
       "  <thead>\n",
       "    <tr style=\"text-align: right;\">\n",
       "      <th></th>\n",
       "      <th>Date</th>\n",
       "      <th>TempHighF</th>\n",
       "      <th>TempAvgF</th>\n",
       "      <th>TempLowF</th>\n",
       "      <th>DewPointHighF</th>\n",
       "      <th>DewPointAvgF</th>\n",
       "      <th>DewPointLowF</th>\n",
       "      <th>HumidityHighPercent</th>\n",
       "      <th>HumidityAvgPercent</th>\n",
       "      <th>HumidityLowPercent</th>\n",
       "      <th>...</th>\n",
       "      <th>SeaLevelPressureAvgInches</th>\n",
       "      <th>SeaLevelPressureLowInches</th>\n",
       "      <th>VisibilityHighMiles</th>\n",
       "      <th>VisibilityAvgMiles</th>\n",
       "      <th>VisibilityLowMiles</th>\n",
       "      <th>WindHighMPH</th>\n",
       "      <th>WindAvgMPH</th>\n",
       "      <th>WindGustMPH</th>\n",
       "      <th>PrecipitationSumInches</th>\n",
       "      <th>Events</th>\n",
       "    </tr>\n",
       "  </thead>\n",
       "  <tbody>\n",
       "    <tr>\n",
       "      <th>0</th>\n",
       "      <td>2013-12-21</td>\n",
       "      <td>74</td>\n",
       "      <td>60</td>\n",
       "      <td>45</td>\n",
       "      <td>67</td>\n",
       "      <td>49</td>\n",
       "      <td>43</td>\n",
       "      <td>93</td>\n",
       "      <td>75</td>\n",
       "      <td>57</td>\n",
       "      <td>...</td>\n",
       "      <td>29.68</td>\n",
       "      <td>29.59</td>\n",
       "      <td>10</td>\n",
       "      <td>7</td>\n",
       "      <td>2</td>\n",
       "      <td>20</td>\n",
       "      <td>4</td>\n",
       "      <td>31</td>\n",
       "      <td>0.46</td>\n",
       "      <td>Rain , Thunderstorm</td>\n",
       "    </tr>\n",
       "    <tr>\n",
       "      <th>1</th>\n",
       "      <td>2013-12-22</td>\n",
       "      <td>56</td>\n",
       "      <td>48</td>\n",
       "      <td>39</td>\n",
       "      <td>43</td>\n",
       "      <td>36</td>\n",
       "      <td>28</td>\n",
       "      <td>93</td>\n",
       "      <td>68</td>\n",
       "      <td>43</td>\n",
       "      <td>...</td>\n",
       "      <td>30.13</td>\n",
       "      <td>29.87</td>\n",
       "      <td>10</td>\n",
       "      <td>10</td>\n",
       "      <td>5</td>\n",
       "      <td>16</td>\n",
       "      <td>6</td>\n",
       "      <td>25</td>\n",
       "      <td>0</td>\n",
       "      <td></td>\n",
       "    </tr>\n",
       "    <tr>\n",
       "      <th>2</th>\n",
       "      <td>2013-12-23</td>\n",
       "      <td>58</td>\n",
       "      <td>45</td>\n",
       "      <td>32</td>\n",
       "      <td>31</td>\n",
       "      <td>27</td>\n",
       "      <td>23</td>\n",
       "      <td>76</td>\n",
       "      <td>52</td>\n",
       "      <td>27</td>\n",
       "      <td>...</td>\n",
       "      <td>30.49</td>\n",
       "      <td>30.41</td>\n",
       "      <td>10</td>\n",
       "      <td>10</td>\n",
       "      <td>10</td>\n",
       "      <td>8</td>\n",
       "      <td>3</td>\n",
       "      <td>12</td>\n",
       "      <td>0</td>\n",
       "      <td></td>\n",
       "    </tr>\n",
       "    <tr>\n",
       "      <th>3</th>\n",
       "      <td>2013-12-24</td>\n",
       "      <td>61</td>\n",
       "      <td>46</td>\n",
       "      <td>31</td>\n",
       "      <td>36</td>\n",
       "      <td>28</td>\n",
       "      <td>21</td>\n",
       "      <td>89</td>\n",
       "      <td>56</td>\n",
       "      <td>22</td>\n",
       "      <td>...</td>\n",
       "      <td>30.45</td>\n",
       "      <td>30.3</td>\n",
       "      <td>10</td>\n",
       "      <td>10</td>\n",
       "      <td>7</td>\n",
       "      <td>12</td>\n",
       "      <td>4</td>\n",
       "      <td>20</td>\n",
       "      <td>0</td>\n",
       "      <td></td>\n",
       "    </tr>\n",
       "    <tr>\n",
       "      <th>4</th>\n",
       "      <td>2013-12-25</td>\n",
       "      <td>58</td>\n",
       "      <td>50</td>\n",
       "      <td>41</td>\n",
       "      <td>44</td>\n",
       "      <td>40</td>\n",
       "      <td>36</td>\n",
       "      <td>86</td>\n",
       "      <td>71</td>\n",
       "      <td>56</td>\n",
       "      <td>...</td>\n",
       "      <td>30.33</td>\n",
       "      <td>30.27</td>\n",
       "      <td>10</td>\n",
       "      <td>10</td>\n",
       "      <td>7</td>\n",
       "      <td>10</td>\n",
       "      <td>2</td>\n",
       "      <td>16</td>\n",
       "      <td>T</td>\n",
       "      <td></td>\n",
       "    </tr>\n",
       "  </tbody>\n",
       "</table>\n",
       "<p>5 rows × 21 columns</p>\n",
       "</div>"
      ],
      "text/plain": [
       "         Date  TempHighF  TempAvgF  TempLowF DewPointHighF DewPointAvgF  \\\n",
       "0  2013-12-21         74        60        45            67           49   \n",
       "1  2013-12-22         56        48        39            43           36   \n",
       "2  2013-12-23         58        45        32            31           27   \n",
       "3  2013-12-24         61        46        31            36           28   \n",
       "4  2013-12-25         58        50        41            44           40   \n",
       "\n",
       "  DewPointLowF HumidityHighPercent HumidityAvgPercent HumidityLowPercent  ...  \\\n",
       "0           43                  93                 75                 57  ...   \n",
       "1           28                  93                 68                 43  ...   \n",
       "2           23                  76                 52                 27  ...   \n",
       "3           21                  89                 56                 22  ...   \n",
       "4           36                  86                 71                 56  ...   \n",
       "\n",
       "  SeaLevelPressureAvgInches SeaLevelPressureLowInches VisibilityHighMiles  \\\n",
       "0                     29.68                     29.59                  10   \n",
       "1                     30.13                     29.87                  10   \n",
       "2                     30.49                     30.41                  10   \n",
       "3                     30.45                      30.3                  10   \n",
       "4                     30.33                     30.27                  10   \n",
       "\n",
       "  VisibilityAvgMiles VisibilityLowMiles WindHighMPH WindAvgMPH WindGustMPH  \\\n",
       "0                  7                  2          20          4          31   \n",
       "1                 10                  5          16          6          25   \n",
       "2                 10                 10           8          3          12   \n",
       "3                 10                  7          12          4          20   \n",
       "4                 10                  7          10          2          16   \n",
       "\n",
       "  PrecipitationSumInches               Events  \n",
       "0                   0.46  Rain , Thunderstorm  \n",
       "1                      0                       \n",
       "2                      0                       \n",
       "3                      0                       \n",
       "4                      T                       \n",
       "\n",
       "[5 rows x 21 columns]"
      ]
     },
     "execution_count": 15,
     "metadata": {},
     "output_type": "execute_result"
    }
   ],
   "source": [
    "weather = pd.read_csv('Data/austin_weather.csv')\n",
    "weather.head()"
   ]
  },
  {
   "cell_type": "code",
   "execution_count": 16,
   "id": "authorized-passenger",
   "metadata": {},
   "outputs": [],
   "source": [
    "db = sqlite3.connect('Data/austin_weather.db')\n",
    "weather.to_sql('weather', db) #weather blir nament på tabellen i datbasen"
   ]
  },
  {
   "cell_type": "markdown",
   "id": "broad-factory",
   "metadata": {},
   "source": [
    "## Nu kan vi läsa in data till en dataframe från databasen\n",
    "\n",
    "syntax: df = pd.read_sql(sql_anrop, db_connection)"
   ]
  },
  {
   "cell_type": "code",
   "execution_count": 17,
   "id": "cardiovascular-noise",
   "metadata": {},
   "outputs": [
    {
     "data": {
      "text/html": [
       "<div>\n",
       "<style scoped>\n",
       "    .dataframe tbody tr th:only-of-type {\n",
       "        vertical-align: middle;\n",
       "    }\n",
       "\n",
       "    .dataframe tbody tr th {\n",
       "        vertical-align: top;\n",
       "    }\n",
       "\n",
       "    .dataframe thead th {\n",
       "        text-align: right;\n",
       "    }\n",
       "</style>\n",
       "<table border=\"1\" class=\"dataframe\">\n",
       "  <thead>\n",
       "    <tr style=\"text-align: right;\">\n",
       "      <th></th>\n",
       "      <th>Date</th>\n",
       "      <th>TempHighF</th>\n",
       "      <th>TempLowF</th>\n",
       "    </tr>\n",
       "  </thead>\n",
       "  <tbody>\n",
       "    <tr>\n",
       "      <th>0</th>\n",
       "      <td>2013-12-21</td>\n",
       "      <td>74</td>\n",
       "      <td>45</td>\n",
       "    </tr>\n",
       "    <tr>\n",
       "      <th>1</th>\n",
       "      <td>2013-12-22</td>\n",
       "      <td>56</td>\n",
       "      <td>39</td>\n",
       "    </tr>\n",
       "    <tr>\n",
       "      <th>2</th>\n",
       "      <td>2013-12-23</td>\n",
       "      <td>58</td>\n",
       "      <td>32</td>\n",
       "    </tr>\n",
       "    <tr>\n",
       "      <th>3</th>\n",
       "      <td>2013-12-24</td>\n",
       "      <td>61</td>\n",
       "      <td>31</td>\n",
       "    </tr>\n",
       "    <tr>\n",
       "      <th>4</th>\n",
       "      <td>2013-12-25</td>\n",
       "      <td>58</td>\n",
       "      <td>41</td>\n",
       "    </tr>\n",
       "  </tbody>\n",
       "</table>\n",
       "</div>"
      ],
      "text/plain": [
       "         Date  TempHighF  TempLowF\n",
       "0  2013-12-21         74        45\n",
       "1  2013-12-22         56        39\n",
       "2  2013-12-23         58        32\n",
       "3  2013-12-24         61        31\n",
       "4  2013-12-25         58        41"
      ]
     },
     "execution_count": 17,
     "metadata": {},
     "output_type": "execute_result"
    }
   ],
   "source": [
    "df = pd.read_sql(\"SELECT Date, TempHighF, TempLowF FROM weather\", db)\n",
    "df.head()"
   ]
  },
  {
   "cell_type": "code",
   "execution_count": 18,
   "id": "incorrect-solid",
   "metadata": {},
   "outputs": [
    {
     "data": {
      "text/html": [
       "<div>\n",
       "<style scoped>\n",
       "    .dataframe tbody tr th:only-of-type {\n",
       "        vertical-align: middle;\n",
       "    }\n",
       "\n",
       "    .dataframe tbody tr th {\n",
       "        vertical-align: top;\n",
       "    }\n",
       "\n",
       "    .dataframe thead th {\n",
       "        text-align: right;\n",
       "    }\n",
       "</style>\n",
       "<table border=\"1\" class=\"dataframe\">\n",
       "  <thead>\n",
       "    <tr style=\"text-align: right;\">\n",
       "      <th></th>\n",
       "      <th>index</th>\n",
       "      <th>Date</th>\n",
       "      <th>TempHighF</th>\n",
       "      <th>TempAvgF</th>\n",
       "      <th>TempLowF</th>\n",
       "      <th>DewPointHighF</th>\n",
       "      <th>DewPointAvgF</th>\n",
       "      <th>DewPointLowF</th>\n",
       "      <th>HumidityHighPercent</th>\n",
       "      <th>HumidityAvgPercent</th>\n",
       "      <th>...</th>\n",
       "      <th>SeaLevelPressureAvgInches</th>\n",
       "      <th>SeaLevelPressureLowInches</th>\n",
       "      <th>VisibilityHighMiles</th>\n",
       "      <th>VisibilityAvgMiles</th>\n",
       "      <th>VisibilityLowMiles</th>\n",
       "      <th>WindHighMPH</th>\n",
       "      <th>WindAvgMPH</th>\n",
       "      <th>WindGustMPH</th>\n",
       "      <th>PrecipitationSumInches</th>\n",
       "      <th>Events</th>\n",
       "    </tr>\n",
       "  </thead>\n",
       "  <tbody>\n",
       "    <tr>\n",
       "      <th>0</th>\n",
       "      <td>0</td>\n",
       "      <td>2013-12-21</td>\n",
       "      <td>74</td>\n",
       "      <td>60</td>\n",
       "      <td>45</td>\n",
       "      <td>67</td>\n",
       "      <td>49</td>\n",
       "      <td>43</td>\n",
       "      <td>93</td>\n",
       "      <td>75</td>\n",
       "      <td>...</td>\n",
       "      <td>29.68</td>\n",
       "      <td>29.59</td>\n",
       "      <td>10</td>\n",
       "      <td>7</td>\n",
       "      <td>2</td>\n",
       "      <td>20</td>\n",
       "      <td>4</td>\n",
       "      <td>31</td>\n",
       "      <td>0.46</td>\n",
       "      <td>Rain , Thunderstorm</td>\n",
       "    </tr>\n",
       "    <tr>\n",
       "      <th>1</th>\n",
       "      <td>1</td>\n",
       "      <td>2013-12-22</td>\n",
       "      <td>56</td>\n",
       "      <td>48</td>\n",
       "      <td>39</td>\n",
       "      <td>43</td>\n",
       "      <td>36</td>\n",
       "      <td>28</td>\n",
       "      <td>93</td>\n",
       "      <td>68</td>\n",
       "      <td>...</td>\n",
       "      <td>30.13</td>\n",
       "      <td>29.87</td>\n",
       "      <td>10</td>\n",
       "      <td>10</td>\n",
       "      <td>5</td>\n",
       "      <td>16</td>\n",
       "      <td>6</td>\n",
       "      <td>25</td>\n",
       "      <td>0</td>\n",
       "      <td></td>\n",
       "    </tr>\n",
       "    <tr>\n",
       "      <th>2</th>\n",
       "      <td>2</td>\n",
       "      <td>2013-12-23</td>\n",
       "      <td>58</td>\n",
       "      <td>45</td>\n",
       "      <td>32</td>\n",
       "      <td>31</td>\n",
       "      <td>27</td>\n",
       "      <td>23</td>\n",
       "      <td>76</td>\n",
       "      <td>52</td>\n",
       "      <td>...</td>\n",
       "      <td>30.49</td>\n",
       "      <td>30.41</td>\n",
       "      <td>10</td>\n",
       "      <td>10</td>\n",
       "      <td>10</td>\n",
       "      <td>8</td>\n",
       "      <td>3</td>\n",
       "      <td>12</td>\n",
       "      <td>0</td>\n",
       "      <td></td>\n",
       "    </tr>\n",
       "    <tr>\n",
       "      <th>3</th>\n",
       "      <td>3</td>\n",
       "      <td>2013-12-24</td>\n",
       "      <td>61</td>\n",
       "      <td>46</td>\n",
       "      <td>31</td>\n",
       "      <td>36</td>\n",
       "      <td>28</td>\n",
       "      <td>21</td>\n",
       "      <td>89</td>\n",
       "      <td>56</td>\n",
       "      <td>...</td>\n",
       "      <td>30.45</td>\n",
       "      <td>30.3</td>\n",
       "      <td>10</td>\n",
       "      <td>10</td>\n",
       "      <td>7</td>\n",
       "      <td>12</td>\n",
       "      <td>4</td>\n",
       "      <td>20</td>\n",
       "      <td>0</td>\n",
       "      <td></td>\n",
       "    </tr>\n",
       "    <tr>\n",
       "      <th>4</th>\n",
       "      <td>4</td>\n",
       "      <td>2013-12-25</td>\n",
       "      <td>58</td>\n",
       "      <td>50</td>\n",
       "      <td>41</td>\n",
       "      <td>44</td>\n",
       "      <td>40</td>\n",
       "      <td>36</td>\n",
       "      <td>86</td>\n",
       "      <td>71</td>\n",
       "      <td>...</td>\n",
       "      <td>30.33</td>\n",
       "      <td>30.27</td>\n",
       "      <td>10</td>\n",
       "      <td>10</td>\n",
       "      <td>7</td>\n",
       "      <td>10</td>\n",
       "      <td>2</td>\n",
       "      <td>16</td>\n",
       "      <td>T</td>\n",
       "      <td></td>\n",
       "    </tr>\n",
       "  </tbody>\n",
       "</table>\n",
       "<p>5 rows × 22 columns</p>\n",
       "</div>"
      ],
      "text/plain": [
       "   index        Date  TempHighF  TempAvgF  TempLowF DewPointHighF  \\\n",
       "0      0  2013-12-21         74        60        45            67   \n",
       "1      1  2013-12-22         56        48        39            43   \n",
       "2      2  2013-12-23         58        45        32            31   \n",
       "3      3  2013-12-24         61        46        31            36   \n",
       "4      4  2013-12-25         58        50        41            44   \n",
       "\n",
       "  DewPointAvgF DewPointLowF HumidityHighPercent HumidityAvgPercent  ...  \\\n",
       "0           49           43                  93                 75  ...   \n",
       "1           36           28                  93                 68  ...   \n",
       "2           27           23                  76                 52  ...   \n",
       "3           28           21                  89                 56  ...   \n",
       "4           40           36                  86                 71  ...   \n",
       "\n",
       "  SeaLevelPressureAvgInches SeaLevelPressureLowInches VisibilityHighMiles  \\\n",
       "0                     29.68                     29.59                  10   \n",
       "1                     30.13                     29.87                  10   \n",
       "2                     30.49                     30.41                  10   \n",
       "3                     30.45                      30.3                  10   \n",
       "4                     30.33                     30.27                  10   \n",
       "\n",
       "  VisibilityAvgMiles VisibilityLowMiles WindHighMPH WindAvgMPH WindGustMPH  \\\n",
       "0                  7                  2          20          4          31   \n",
       "1                 10                  5          16          6          25   \n",
       "2                 10                 10           8          3          12   \n",
       "3                 10                  7          12          4          20   \n",
       "4                 10                  7          10          2          16   \n",
       "\n",
       "  PrecipitationSumInches               Events  \n",
       "0                   0.46  Rain , Thunderstorm  \n",
       "1                      0                       \n",
       "2                      0                       \n",
       "3                      0                       \n",
       "4                      T                       \n",
       "\n",
       "[5 rows x 22 columns]"
      ]
     },
     "execution_count": 18,
     "metadata": {},
     "output_type": "execute_result"
    }
   ],
   "source": [
    "df = pd.read_sql(\"SELECT * FROM weather\", db)\n",
    "df.head()"
   ]
  },
  {
   "cell_type": "markdown",
   "id": "internal-prototype",
   "metadata": {},
   "source": [
    "## Vi vill dra ut alla rader med WindHighMPH > 10 från databasen"
   ]
  },
  {
   "cell_type": "code",
   "execution_count": 19,
   "id": "understanding-saying",
   "metadata": {},
   "outputs": [
    {
     "data": {
      "text/html": [
       "<div>\n",
       "<style scoped>\n",
       "    .dataframe tbody tr th:only-of-type {\n",
       "        vertical-align: middle;\n",
       "    }\n",
       "\n",
       "    .dataframe tbody tr th {\n",
       "        vertical-align: top;\n",
       "    }\n",
       "\n",
       "    .dataframe thead th {\n",
       "        text-align: right;\n",
       "    }\n",
       "</style>\n",
       "<table border=\"1\" class=\"dataframe\">\n",
       "  <thead>\n",
       "    <tr style=\"text-align: right;\">\n",
       "      <th></th>\n",
       "      <th>Date</th>\n",
       "      <th>WindHighMPH</th>\n",
       "      <th>TempHighF</th>\n",
       "    </tr>\n",
       "  </thead>\n",
       "  <tbody>\n",
       "    <tr>\n",
       "      <th>0</th>\n",
       "      <td>2013-12-21</td>\n",
       "      <td>20</td>\n",
       "      <td>74</td>\n",
       "    </tr>\n",
       "    <tr>\n",
       "      <th>1</th>\n",
       "      <td>2013-12-22</td>\n",
       "      <td>16</td>\n",
       "      <td>56</td>\n",
       "    </tr>\n",
       "    <tr>\n",
       "      <th>2</th>\n",
       "      <td>2013-12-23</td>\n",
       "      <td>8</td>\n",
       "      <td>58</td>\n",
       "    </tr>\n",
       "    <tr>\n",
       "      <th>3</th>\n",
       "      <td>2013-12-24</td>\n",
       "      <td>12</td>\n",
       "      <td>61</td>\n",
       "    </tr>\n",
       "    <tr>\n",
       "      <th>4</th>\n",
       "      <td>2013-12-26</td>\n",
       "      <td>12</td>\n",
       "      <td>57</td>\n",
       "    </tr>\n",
       "  </tbody>\n",
       "</table>\n",
       "</div>"
      ],
      "text/plain": [
       "         Date WindHighMPH  TempHighF\n",
       "0  2013-12-21          20         74\n",
       "1  2013-12-22          16         56\n",
       "2  2013-12-23           8         58\n",
       "3  2013-12-24          12         61\n",
       "4  2013-12-26          12         57"
      ]
     },
     "execution_count": 19,
     "metadata": {},
     "output_type": "execute_result"
    }
   ],
   "source": [
    "df = pd.read_sql(\"SELECT Date, WindHighMPH, TempHighF FROM weather WHERE WindHighMPH > 10\", db)\n",
    "df.head()"
   ]
  },
  {
   "cell_type": "markdown",
   "id": "continent-amino",
   "metadata": {},
   "source": [
    "#### Det funkade inte. Vi undersöker varför..."
   ]
  },
  {
   "cell_type": "code",
   "execution_count": 20,
   "id": "exclusive-angola",
   "metadata": {},
   "outputs": [
    {
     "data": {
      "text/plain": [
       "Date           object\n",
       "WindHighMPH    object\n",
       "TempHighF       int64\n",
       "dtype: object"
      ]
     },
     "execution_count": 20,
     "metadata": {},
     "output_type": "execute_result"
    }
   ],
   "source": [
    "df.dtypes"
   ]
  },
  {
   "cell_type": "markdown",
   "id": "broadband-hayes",
   "metadata": {},
   "source": [
    "kolumnen WindHighMPH är av typen object och därför har \"WHERE WindHighMPH > 10\" inte fungerat. För att få ut datan vi vill ha måste vi casta kolumnen till int... \n",
    "\n",
    "I vår kolumn hade vi minst ett värde som var '-' och kunde därför inte casta hela kolumnen direkt. Det finns två alternativ för att komma runt detta"
   ]
  },
  {
   "cell_type": "markdown",
   "id": "offshore-glass",
   "metadata": {},
   "source": [
    "#### Alt 1 - boolean masking som specifikt kollar på '-'"
   ]
  },
  {
   "cell_type": "code",
   "execution_count": 21,
   "id": "exact-photographer",
   "metadata": {},
   "outputs": [],
   "source": [
    "df = df[df['WindHighMPH'] != '-' ]\n"
   ]
  },
  {
   "cell_type": "markdown",
   "id": "dense-motorcycle",
   "metadata": {},
   "source": [
    "#### Alt 2 - boolean masking som använder apply och en lambda funktion för att kolla om kolumnvärden är digits"
   ]
  },
  {
   "cell_type": "code",
   "execution_count": 22,
   "id": "alpha-johnston",
   "metadata": {},
   "outputs": [],
   "source": [
    "df2 = df[ df['WindHighMPH'].apply(lambda x: str(x).isdigit())]"
   ]
  },
  {
   "cell_type": "markdown",
   "id": "assigned-frederick",
   "metadata": {},
   "source": [
    "## Casta kolumnen till int"
   ]
  },
  {
   "cell_type": "code",
   "execution_count": 23,
   "id": "direct-success",
   "metadata": {},
   "outputs": [],
   "source": [
    "df['WindHighMPH'] = df['WindHighMPH'].astype(int)"
   ]
  },
  {
   "cell_type": "code",
   "execution_count": 39,
   "id": "progressive-dancing",
   "metadata": {},
   "outputs": [
    {
     "data": {
      "text/plain": [
       "1177"
      ]
     },
     "execution_count": 39,
     "metadata": {},
     "output_type": "execute_result"
    }
   ],
   "source": [
    "df.dtypes"
   ]
  },
  {
   "cell_type": "markdown",
   "id": "pediatric-luxembourg",
   "metadata": {},
   "source": [
    "## nu kan vi använda pandas för att få ut de dagar som hade WindHighMPH > 10"
   ]
  },
  {
   "cell_type": "code",
   "execution_count": 40,
   "id": "color-interaction",
   "metadata": {},
   "outputs": [
    {
     "name": "stdout",
     "output_type": "stream",
     "text": [
      "1177\n"
     ]
    },
    {
     "data": {
      "text/plain": [
       "977"
      ]
     },
     "execution_count": 40,
     "metadata": {},
     "output_type": "execute_result"
    }
   ],
   "source": [
    "print(len(df)) # Sanity check\n",
    "subset_df = df[ df['WindHighMPH'] > 10]\n",
    "len(subset_df)"
   ]
  },
  {
   "cell_type": "markdown",
   "id": "bored-google",
   "metadata": {},
   "source": [
    "## Bonus! Visualization med altair\n",
    "\n",
    "Altair är ett bibliotek jag nyligen upptäckt för visualisering som verkar väldigt kraftfullt utan mycket customization\n",
    "\n",
    "Prova att installera det och kolla in docs på https://altair-viz.github.io/getting_started/starting.html#the-data"
   ]
  },
  {
   "cell_type": "code",
   "execution_count": 56,
   "id": "divine-cooler",
   "metadata": {},
   "outputs": [
    {
     "name": "stdout",
     "output_type": "stream",
     "text": [
      "Requirement already satisfied: altair in c:\\users\\alexanderhagelborn\\miniconda3\\envs\\testenv\\lib\\site-packages (4.1.0)\n",
      "Requirement already satisfied: jinja2 in c:\\users\\alexanderhagelborn\\miniconda3\\envs\\testenv\\lib\\site-packages (from altair) (2.11.3)\n",
      "Requirement already satisfied: entrypoints in c:\\users\\alexanderhagelborn\\miniconda3\\envs\\testenv\\lib\\site-packages (from altair) (0.3)\n",
      "Requirement already satisfied: pandas>=0.18 in c:\\users\\alexanderhagelborn\\miniconda3\\envs\\testenv\\lib\\site-packages (from altair) (1.2.4)\n",
      "Requirement already satisfied: numpy in c:\\users\\alexanderhagelborn\\miniconda3\\envs\\testenv\\lib\\site-packages (from altair) (1.19.2)\n",
      "Requirement already satisfied: jsonschema in c:\\users\\alexanderhagelborn\\miniconda3\\envs\\testenv\\lib\\site-packages (from altair) (3.2.0)\n",
      "Requirement already satisfied: toolz in c:\\users\\alexanderhagelborn\\miniconda3\\envs\\testenv\\lib\\site-packages (from altair) (0.11.1)\n",
      "Requirement already satisfied: python-dateutil>=2.7.3 in c:\\users\\alexanderhagelborn\\miniconda3\\envs\\testenv\\lib\\site-packages (from pandas>=0.18->altair) (2.8.1)\n",
      "Requirement already satisfied: pytz>=2017.3 in c:\\users\\alexanderhagelborn\\miniconda3\\envs\\testenv\\lib\\site-packages (from pandas>=0.18->altair) (2021.1)\n",
      "Requirement already satisfied: six>=1.5 in c:\\users\\alexanderhagelborn\\miniconda3\\envs\\testenv\\lib\\site-packages (from python-dateutil>=2.7.3->pandas>=0.18->altair) (1.15.0)\n",
      "Requirement already satisfied: MarkupSafe>=0.23 in c:\\users\\alexanderhagelborn\\miniconda3\\envs\\testenv\\lib\\site-packages (from jinja2->altair) (1.1.1)\n",
      "Requirement already satisfied: attrs>=17.4.0 in c:\\users\\alexanderhagelborn\\miniconda3\\envs\\testenv\\lib\\site-packages (from jsonschema->altair) (20.3.0)\n",
      "Requirement already satisfied: setuptools in c:\\users\\alexanderhagelborn\\miniconda3\\envs\\testenv\\lib\\site-packages (from jsonschema->altair) (52.0.0.post20210125)\n",
      "Requirement already satisfied: pyrsistent>=0.14.0 in c:\\users\\alexanderhagelborn\\miniconda3\\envs\\testenv\\lib\\site-packages (from jsonschema->altair) (0.17.3)\n"
     ]
    }
   ],
   "source": [
    "!pip install altair"
   ]
  },
  {
   "cell_type": "markdown",
   "id": "dependent-humor",
   "metadata": {},
   "source": [
    "### En enkel lineplot med altair"
   ]
  },
  {
   "cell_type": "code",
   "execution_count": 44,
   "id": "critical-message",
   "metadata": {},
   "outputs": [
    {
     "data": {
      "text/html": [
       "\n",
       "<div id=\"altair-viz-00a12cf8bb3b4ebeaa22f5e9485d0c8d\"></div>\n",
       "<script type=\"text/javascript\">\n",
       "  (function(spec, embedOpt){\n",
       "    let outputDiv = document.currentScript.previousElementSibling;\n",
       "    if (outputDiv.id !== \"altair-viz-00a12cf8bb3b4ebeaa22f5e9485d0c8d\") {\n",
       "      outputDiv = document.getElementById(\"altair-viz-00a12cf8bb3b4ebeaa22f5e9485d0c8d\");\n",
       "    }\n",
       "    const paths = {\n",
       "      \"vega\": \"https://cdn.jsdelivr.net/npm//vega@5?noext\",\n",
       "      \"vega-lib\": \"https://cdn.jsdelivr.net/npm//vega-lib?noext\",\n",
       "      \"vega-lite\": \"https://cdn.jsdelivr.net/npm//vega-lite@4.8.1?noext\",\n",
       "      \"vega-embed\": \"https://cdn.jsdelivr.net/npm//vega-embed@6?noext\",\n",
       "    };\n",
       "\n",
       "    function loadScript(lib) {\n",
       "      return new Promise(function(resolve, reject) {\n",
       "        var s = document.createElement('script');\n",
       "        s.src = paths[lib];\n",
       "        s.async = true;\n",
       "        s.onload = () => resolve(paths[lib]);\n",
       "        s.onerror = () => reject(`Error loading script: ${paths[lib]}`);\n",
       "        document.getElementsByTagName(\"head\")[0].appendChild(s);\n",
       "      });\n",
       "    }\n",
       "\n",
       "    function showError(err) {\n",
       "      outputDiv.innerHTML = `<div class=\"error\" style=\"color:red;\">${err}</div>`;\n",
       "      throw err;\n",
       "    }\n",
       "\n",
       "    function displayChart(vegaEmbed) {\n",
       "      vegaEmbed(outputDiv, spec, embedOpt)\n",
       "        .catch(err => showError(`Javascript Error: ${err.message}<br>This usually means there's a typo in your chart specification. See the javascript console for the full traceback.`));\n",
       "    }\n",
       "\n",
       "    if(typeof define === \"function\" && define.amd) {\n",
       "      requirejs.config({paths});\n",
       "      require([\"vega-embed\"], displayChart, err => showError(`Error loading script: ${err.message}`));\n",
       "    } else if (typeof vegaEmbed === \"function\") {\n",
       "      displayChart(vegaEmbed);\n",
       "    } else {\n",
       "      loadScript(\"vega\")\n",
       "        .then(() => loadScript(\"vega-lite\"))\n",
       "        .then(() => loadScript(\"vega-embed\"))\n",
       "        .catch(showError)\n",
       "        .then(() => displayChart(vegaEmbed));\n",
       "    }\n",
       "  })({\"config\": {\"view\": {\"continuousWidth\": 400, \"continuousHeight\": 300}}, \"data\": {\"name\": \"data-02cbc757d95c2f7d28f6820b814f65ec\"}, \"mark\": \"line\", \"encoding\": {\"x\": {\"type\": \"nominal\", \"field\": \"Date\"}, \"y\": {\"type\": \"quantitative\", \"field\": \"TempHighF\"}}, \"$schema\": \"https://vega.github.io/schema/vega-lite/v4.8.1.json\", \"datasets\": {\"data-02cbc757d95c2f7d28f6820b814f65ec\": [{\"Date\": \"2017-01-02\", \"WindHighMPH\": 15, \"TempHighF\": 73}, {\"Date\": \"2017-01-03\", \"WindHighMPH\": 12, \"TempHighF\": 75}, {\"Date\": \"2017-01-05\", \"WindHighMPH\": 15, \"TempHighF\": 62}, {\"Date\": \"2017-01-06\", \"WindHighMPH\": 17, \"TempHighF\": 34}, {\"Date\": \"2017-01-07\", \"WindHighMPH\": 12, \"TempHighF\": 44}, {\"Date\": \"2017-01-08\", \"WindHighMPH\": 14, \"TempHighF\": 53}, {\"Date\": \"2017-01-09\", \"WindHighMPH\": 15, \"TempHighF\": 71}, {\"Date\": \"2017-01-10\", \"WindHighMPH\": 17, \"TempHighF\": 79}, {\"Date\": \"2017-01-11\", \"WindHighMPH\": 16, \"TempHighF\": 80}, {\"Date\": \"2017-01-12\", \"WindHighMPH\": 14, \"TempHighF\": 81}, {\"Date\": \"2017-01-13\", \"WindHighMPH\": 14, \"TempHighF\": 78}, {\"Date\": \"2017-01-15\", \"WindHighMPH\": 17, \"TempHighF\": 73}, {\"Date\": \"2017-01-17\", \"WindHighMPH\": 14, \"TempHighF\": 59}, {\"Date\": \"2017-01-19\", \"WindHighMPH\": 12, \"TempHighF\": 71}, {\"Date\": \"2017-01-21\", \"WindHighMPH\": 21, \"TempHighF\": 81}, {\"Date\": \"2017-01-22\", \"WindHighMPH\": 24, \"TempHighF\": 70}, {\"Date\": \"2017-01-24\", \"WindHighMPH\": 14, \"TempHighF\": 84}, {\"Date\": \"2017-01-25\", \"WindHighMPH\": 15, \"TempHighF\": 69}, {\"Date\": \"2017-01-27\", \"WindHighMPH\": 13, \"TempHighF\": 58}, {\"Date\": \"2017-01-28\", \"WindHighMPH\": 14, \"TempHighF\": 61}, {\"Date\": \"2017-01-29\", \"WindHighMPH\": 14, \"TempHighF\": 70}, {\"Date\": \"2017-01-30\", \"WindHighMPH\": 12, \"TempHighF\": 79}, {\"Date\": \"2017-01-31\", \"WindHighMPH\": 13, \"TempHighF\": 78}, {\"Date\": \"2017-02-01\", \"WindHighMPH\": 14, \"TempHighF\": 82}, {\"Date\": \"2017-02-02\", \"WindHighMPH\": 13, \"TempHighF\": 64}, {\"Date\": \"2017-02-03\", \"WindHighMPH\": 13, \"TempHighF\": 53}, {\"Date\": \"2017-02-05\", \"WindHighMPH\": 12, \"TempHighF\": 72}, {\"Date\": \"2017-02-06\", \"WindHighMPH\": 12, \"TempHighF\": 78}, {\"Date\": \"2017-02-07\", \"WindHighMPH\": 13, \"TempHighF\": 86}, {\"Date\": \"2017-02-08\", \"WindHighMPH\": 18, \"TempHighF\": 87}, {\"Date\": \"2017-02-11\", \"WindHighMPH\": 12, \"TempHighF\": 86}, {\"Date\": \"2017-02-12\", \"WindHighMPH\": 14, \"TempHighF\": 79}, {\"Date\": \"2017-02-13\", \"WindHighMPH\": 18, \"TempHighF\": 78}, {\"Date\": \"2017-02-14\", \"WindHighMPH\": 20, \"TempHighF\": 67}, {\"Date\": \"2017-02-15\", \"WindHighMPH\": 16, \"TempHighF\": 65}, {\"Date\": \"2017-02-16\", \"WindHighMPH\": 12, \"TempHighF\": 70}, {\"Date\": \"2017-02-17\", \"WindHighMPH\": 13, \"TempHighF\": 77}, {\"Date\": \"2017-02-18\", \"WindHighMPH\": 12, \"TempHighF\": 86}, {\"Date\": \"2017-02-19\", \"WindHighMPH\": 20, \"TempHighF\": 81}, {\"Date\": \"2017-02-20\", \"WindHighMPH\": 21, \"TempHighF\": 70}, {\"Date\": \"2017-02-21\", \"WindHighMPH\": 15, \"TempHighF\": 82}, {\"Date\": \"2017-02-23\", \"WindHighMPH\": 15, \"TempHighF\": 90}, {\"Date\": \"2017-02-24\", \"WindHighMPH\": 17, \"TempHighF\": 80}, {\"Date\": \"2017-02-25\", \"WindHighMPH\": 13, \"TempHighF\": 63}, {\"Date\": \"2017-02-26\", \"WindHighMPH\": 12, \"TempHighF\": 72}, {\"Date\": \"2017-02-27\", \"WindHighMPH\": 13, \"TempHighF\": 82}, {\"Date\": \"2017-02-28\", \"WindHighMPH\": 14, \"TempHighF\": 80}, {\"Date\": \"2017-03-01\", \"WindHighMPH\": 21, \"TempHighF\": 73}, {\"Date\": \"2017-03-02\", \"WindHighMPH\": 13, \"TempHighF\": 66}, {\"Date\": \"2017-03-03\", \"WindHighMPH\": 14, \"TempHighF\": 71}, {\"Date\": \"2017-03-04\", \"WindHighMPH\": 13, \"TempHighF\": 59}, {\"Date\": \"2017-03-05\", \"WindHighMPH\": 12, \"TempHighF\": 75}, {\"Date\": \"2017-03-06\", \"WindHighMPH\": 16, \"TempHighF\": 84}, {\"Date\": \"2017-03-07\", \"WindHighMPH\": 17, \"TempHighF\": 77}, {\"Date\": \"2017-03-08\", \"WindHighMPH\": 12, \"TempHighF\": 76}, {\"Date\": \"2017-03-09\", \"WindHighMPH\": 14, \"TempHighF\": 80}, {\"Date\": \"2017-03-10\", \"WindHighMPH\": 12, \"TempHighF\": 83}, {\"Date\": \"2017-03-12\", \"WindHighMPH\": 18, \"TempHighF\": 62}, {\"Date\": \"2017-03-13\", \"WindHighMPH\": 12, \"TempHighF\": 70}, {\"Date\": \"2017-03-14\", \"WindHighMPH\": 12, \"TempHighF\": 73}, {\"Date\": \"2017-03-15\", \"WindHighMPH\": 14, \"TempHighF\": 75}, {\"Date\": \"2017-03-16\", \"WindHighMPH\": 14, \"TempHighF\": 79}, {\"Date\": \"2017-03-17\", \"WindHighMPH\": 15, \"TempHighF\": 83}, {\"Date\": \"2017-03-19\", \"WindHighMPH\": 12, \"TempHighF\": 85}, {\"Date\": \"2017-03-20\", \"WindHighMPH\": 13, \"TempHighF\": 85}, {\"Date\": \"2017-03-21\", \"WindHighMPH\": 13, \"TempHighF\": 85}, {\"Date\": \"2017-03-22\", \"WindHighMPH\": 14, \"TempHighF\": 83}, {\"Date\": \"2017-03-23\", \"WindHighMPH\": 24, \"TempHighF\": 85}, {\"Date\": \"2017-03-24\", \"WindHighMPH\": 17, \"TempHighF\": 83}, {\"Date\": \"2017-03-25\", \"WindHighMPH\": 12, \"TempHighF\": 84}, {\"Date\": \"2017-03-26\", \"WindHighMPH\": 18, \"TempHighF\": 86}, {\"Date\": \"2017-03-27\", \"WindHighMPH\": 13, \"TempHighF\": 86}, {\"Date\": \"2017-03-28\", \"WindHighMPH\": 22, \"TempHighF\": 86}, {\"Date\": \"2017-03-29\", \"WindHighMPH\": 15, \"TempHighF\": 84}, {\"Date\": \"2017-03-30\", \"WindHighMPH\": 15, \"TempHighF\": 82}, {\"Date\": \"2017-03-31\", \"WindHighMPH\": 18, \"TempHighF\": 86}, {\"Date\": \"2017-04-01\", \"WindHighMPH\": 16, \"TempHighF\": 76}, {\"Date\": \"2017-04-02\", \"WindHighMPH\": 16, \"TempHighF\": 77}, {\"Date\": \"2017-04-04\", \"WindHighMPH\": 14, \"TempHighF\": 89}, {\"Date\": \"2017-04-05\", \"WindHighMPH\": 21, \"TempHighF\": 75}, {\"Date\": \"2017-04-07\", \"WindHighMPH\": 12, \"TempHighF\": 81}, {\"Date\": \"2017-04-08\", \"WindHighMPH\": 15, \"TempHighF\": 82}, {\"Date\": \"2017-04-09\", \"WindHighMPH\": 15, \"TempHighF\": 81}, {\"Date\": \"2017-04-10\", \"WindHighMPH\": 13, \"TempHighF\": 80}, {\"Date\": \"2017-04-13\", \"WindHighMPH\": 14, \"TempHighF\": 82}, {\"Date\": \"2017-04-14\", \"WindHighMPH\": 12, \"TempHighF\": 84}, {\"Date\": \"2017-04-15\", \"WindHighMPH\": 14, \"TempHighF\": 84}, {\"Date\": \"2017-04-16\", \"WindHighMPH\": 14, \"TempHighF\": 84}, {\"Date\": \"2017-04-17\", \"WindHighMPH\": 16, \"TempHighF\": 80}, {\"Date\": \"2017-04-19\", \"WindHighMPH\": 14, \"TempHighF\": 85}, {\"Date\": \"2017-04-20\", \"WindHighMPH\": 12, \"TempHighF\": 88}, {\"Date\": \"2017-04-21\", \"WindHighMPH\": 14, \"TempHighF\": 89}, {\"Date\": \"2017-04-22\", \"WindHighMPH\": 14, \"TempHighF\": 73}, {\"Date\": \"2017-04-23\", \"WindHighMPH\": 14, \"TempHighF\": 77}, {\"Date\": \"2017-04-24\", \"WindHighMPH\": 14, \"TempHighF\": 82}, {\"Date\": \"2017-04-25\", \"WindHighMPH\": 16, \"TempHighF\": 90}, {\"Date\": \"2017-04-26\", \"WindHighMPH\": 18, \"TempHighF\": 91}, {\"Date\": \"2017-04-27\", \"WindHighMPH\": 15, \"TempHighF\": 86}, {\"Date\": \"2017-04-28\", \"WindHighMPH\": 17, \"TempHighF\": 95}, {\"Date\": \"2017-04-29\", \"WindHighMPH\": 18, \"TempHighF\": 92}, {\"Date\": \"2017-04-30\", \"WindHighMPH\": 18, \"TempHighF\": 78}, {\"Date\": \"2017-05-01\", \"WindHighMPH\": 14, \"TempHighF\": 91}, {\"Date\": \"2017-05-02\", \"WindHighMPH\": 16, \"TempHighF\": 92}, {\"Date\": \"2017-05-03\", \"WindHighMPH\": 18, \"TempHighF\": 95}, {\"Date\": \"2017-05-04\", \"WindHighMPH\": 18, \"TempHighF\": 79}, {\"Date\": \"2017-05-05\", \"WindHighMPH\": 13, \"TempHighF\": 86}, {\"Date\": \"2017-05-06\", \"WindHighMPH\": 12, \"TempHighF\": 91}, {\"Date\": \"2017-05-07\", \"WindHighMPH\": 15, \"TempHighF\": 88}, {\"Date\": \"2017-05-08\", \"WindHighMPH\": 16, \"TempHighF\": 84}, {\"Date\": \"2017-05-09\", \"WindHighMPH\": 12, \"TempHighF\": 76}, {\"Date\": \"2017-05-10\", \"WindHighMPH\": 14, \"TempHighF\": 83}, {\"Date\": \"2017-05-11\", \"WindHighMPH\": 15, \"TempHighF\": 88}, {\"Date\": \"2017-05-12\", \"WindHighMPH\": 14, \"TempHighF\": 88}, {\"Date\": \"2017-05-14\", \"WindHighMPH\": 13, \"TempHighF\": 93}, {\"Date\": \"2017-05-15\", \"WindHighMPH\": 15, \"TempHighF\": 92}, {\"Date\": \"2017-05-16\", \"WindHighMPH\": 20, \"TempHighF\": 86}, {\"Date\": \"2017-05-17\", \"WindHighMPH\": 14, \"TempHighF\": 90}, {\"Date\": \"2017-05-18\", \"WindHighMPH\": 20, \"TempHighF\": 94}, {\"Date\": \"2017-05-19\", \"WindHighMPH\": 18, \"TempHighF\": 95}, {\"Date\": \"2017-05-20\", \"WindHighMPH\": 15, \"TempHighF\": 84}, {\"Date\": \"2017-05-21\", \"WindHighMPH\": 14, \"TempHighF\": 78}, {\"Date\": \"2017-05-23\", \"WindHighMPH\": 21, \"TempHighF\": 86}, {\"Date\": \"2017-05-24\", \"WindHighMPH\": 12, \"TempHighF\": 87}, {\"Date\": \"2017-05-25\", \"WindHighMPH\": 17, \"TempHighF\": 94}, {\"Date\": \"2017-05-26\", \"WindHighMPH\": 13, \"TempHighF\": 92}, {\"Date\": \"2017-05-27\", \"WindHighMPH\": 15, \"TempHighF\": 97}, {\"Date\": \"2017-05-28\", \"WindHighMPH\": 18, \"TempHighF\": 94}, {\"Date\": \"2017-05-31\", \"WindHighMPH\": 17, \"TempHighF\": 85}, {\"Date\": \"2017-06-02\", \"WindHighMPH\": 12, \"TempHighF\": 92}, {\"Date\": \"2017-06-03\", \"WindHighMPH\": 12, \"TempHighF\": 92}, {\"Date\": \"2017-06-04\", \"WindHighMPH\": 12, \"TempHighF\": 91}, {\"Date\": \"2017-06-05\", \"WindHighMPH\": 25, \"TempHighF\": 90}, {\"Date\": \"2017-06-06\", \"WindHighMPH\": 14, \"TempHighF\": 92}, {\"Date\": \"2017-06-09\", \"WindHighMPH\": 13, \"TempHighF\": 90}, {\"Date\": \"2017-06-10\", \"WindHighMPH\": 14, \"TempHighF\": 93}, {\"Date\": \"2017-06-11\", \"WindHighMPH\": 13, \"TempHighF\": 93}, {\"Date\": \"2017-06-12\", \"WindHighMPH\": 15, \"TempHighF\": 94}, {\"Date\": \"2017-06-13\", \"WindHighMPH\": 18, \"TempHighF\": 98}, {\"Date\": \"2017-06-14\", \"WindHighMPH\": 14, \"TempHighF\": 96}, {\"Date\": \"2017-06-15\", \"WindHighMPH\": 13, \"TempHighF\": 99}, {\"Date\": \"2017-06-16\", \"WindHighMPH\": 16, \"TempHighF\": 98}, {\"Date\": \"2017-06-17\", \"WindHighMPH\": 15, \"TempHighF\": 101}, {\"Date\": \"2017-06-18\", \"WindHighMPH\": 13, \"TempHighF\": 100}, {\"Date\": \"2017-06-19\", \"WindHighMPH\": 13, \"TempHighF\": 92}, {\"Date\": \"2017-06-21\", \"WindHighMPH\": 14, \"TempHighF\": 97}, {\"Date\": \"2017-06-23\", \"WindHighMPH\": 14, \"TempHighF\": 104}, {\"Date\": \"2017-06-24\", \"WindHighMPH\": 13, \"TempHighF\": 85}, {\"Date\": \"2017-06-25\", \"WindHighMPH\": 13, \"TempHighF\": 90}, {\"Date\": \"2017-06-26\", \"WindHighMPH\": 15, \"TempHighF\": 91}, {\"Date\": \"2017-06-27\", \"WindHighMPH\": 20, \"TempHighF\": 91}, {\"Date\": \"2017-06-29\", \"WindHighMPH\": 13, \"TempHighF\": 99}, {\"Date\": \"2017-06-30\", \"WindHighMPH\": 16, \"TempHighF\": 98}, {\"Date\": \"2017-07-01\", \"WindHighMPH\": 15, \"TempHighF\": 98}, {\"Date\": \"2017-07-02\", \"WindHighMPH\": 14, \"TempHighF\": 100}, {\"Date\": \"2017-07-03\", \"WindHighMPH\": 13, \"TempHighF\": 99}, {\"Date\": \"2017-07-04\", \"WindHighMPH\": 13, \"TempHighF\": 101}, {\"Date\": \"2017-07-05\", \"WindHighMPH\": 13, \"TempHighF\": 99}, {\"Date\": \"2017-07-06\", \"WindHighMPH\": 12, \"TempHighF\": 100}, {\"Date\": \"2017-07-07\", \"WindHighMPH\": 15, \"TempHighF\": 99}, {\"Date\": \"2017-07-09\", \"WindHighMPH\": 12, \"TempHighF\": 101}, {\"Date\": \"2017-07-10\", \"WindHighMPH\": 12, \"TempHighF\": 100}, {\"Date\": \"2017-07-11\", \"WindHighMPH\": 14, \"TempHighF\": 101}, {\"Date\": \"2017-07-12\", \"WindHighMPH\": 13, \"TempHighF\": 101}, {\"Date\": \"2017-07-14\", \"WindHighMPH\": 15, \"TempHighF\": 101}, {\"Date\": \"2017-07-15\", \"WindHighMPH\": 23, \"TempHighF\": 103}, {\"Date\": \"2017-07-16\", \"WindHighMPH\": 12, \"TempHighF\": 99}, {\"Date\": \"2017-07-17\", \"WindHighMPH\": 16, \"TempHighF\": 98}, {\"Date\": \"2017-07-18\", \"WindHighMPH\": 14, \"TempHighF\": 100}, {\"Date\": \"2017-07-19\", \"WindHighMPH\": 18, \"TempHighF\": 101}, {\"Date\": \"2017-07-20\", \"WindHighMPH\": 14, \"TempHighF\": 103}, {\"Date\": \"2017-07-21\", \"WindHighMPH\": 14, \"TempHighF\": 104}, {\"Date\": \"2017-07-22\", \"WindHighMPH\": 13, \"TempHighF\": 103}, {\"Date\": \"2017-07-23\", \"WindHighMPH\": 13, \"TempHighF\": 103}, {\"Date\": \"2017-07-24\", \"WindHighMPH\": 13, \"TempHighF\": 102}, {\"Date\": \"2017-07-25\", \"WindHighMPH\": 15, \"TempHighF\": 103}, {\"Date\": \"2017-07-26\", \"WindHighMPH\": 15, \"TempHighF\": 103}, {\"Date\": \"2017-07-27\", \"WindHighMPH\": 12, \"TempHighF\": 103}, {\"Date\": \"2017-07-28\", \"WindHighMPH\": 14, \"TempHighF\": 105}, {\"Date\": \"2017-07-29\", \"WindHighMPH\": 12, \"TempHighF\": 107}, {\"Date\": \"2017-07-30\", \"WindHighMPH\": 13, \"TempHighF\": 106}, {\"Date\": \"2017-07-31\", \"WindHighMPH\": 12, \"TempHighF\": 99}]}}, {\"mode\": \"vega-lite\"});\n",
       "</script>"
      ],
      "text/plain": [
       "alt.Chart(...)"
      ]
     },
     "execution_count": 44,
     "metadata": {},
     "output_type": "execute_result"
    }
   ],
   "source": [
    "import altair as alt\n",
    "\n",
    "data = df[df.Date > '2017-01-01']\n",
    "\n",
    "alt.Chart(data).mark_line().encode(\n",
    "    x = 'Date',\n",
    "    y='TempHighF')"
   ]
  },
  {
   "cell_type": "markdown",
   "id": "boxed-shower",
   "metadata": {},
   "source": [
    "### Genom att byta ut mark_line mot mark_point får vi en scatterplot istället"
   ]
  },
  {
   "cell_type": "code",
   "execution_count": 45,
   "id": "social-district",
   "metadata": {},
   "outputs": [
    {
     "data": {
      "text/html": [
       "\n",
       "<div id=\"altair-viz-40adb5c18a034b6aaa88ea98206720ba\"></div>\n",
       "<script type=\"text/javascript\">\n",
       "  (function(spec, embedOpt){\n",
       "    let outputDiv = document.currentScript.previousElementSibling;\n",
       "    if (outputDiv.id !== \"altair-viz-40adb5c18a034b6aaa88ea98206720ba\") {\n",
       "      outputDiv = document.getElementById(\"altair-viz-40adb5c18a034b6aaa88ea98206720ba\");\n",
       "    }\n",
       "    const paths = {\n",
       "      \"vega\": \"https://cdn.jsdelivr.net/npm//vega@5?noext\",\n",
       "      \"vega-lib\": \"https://cdn.jsdelivr.net/npm//vega-lib?noext\",\n",
       "      \"vega-lite\": \"https://cdn.jsdelivr.net/npm//vega-lite@4.8.1?noext\",\n",
       "      \"vega-embed\": \"https://cdn.jsdelivr.net/npm//vega-embed@6?noext\",\n",
       "    };\n",
       "\n",
       "    function loadScript(lib) {\n",
       "      return new Promise(function(resolve, reject) {\n",
       "        var s = document.createElement('script');\n",
       "        s.src = paths[lib];\n",
       "        s.async = true;\n",
       "        s.onload = () => resolve(paths[lib]);\n",
       "        s.onerror = () => reject(`Error loading script: ${paths[lib]}`);\n",
       "        document.getElementsByTagName(\"head\")[0].appendChild(s);\n",
       "      });\n",
       "    }\n",
       "\n",
       "    function showError(err) {\n",
       "      outputDiv.innerHTML = `<div class=\"error\" style=\"color:red;\">${err}</div>`;\n",
       "      throw err;\n",
       "    }\n",
       "\n",
       "    function displayChart(vegaEmbed) {\n",
       "      vegaEmbed(outputDiv, spec, embedOpt)\n",
       "        .catch(err => showError(`Javascript Error: ${err.message}<br>This usually means there's a typo in your chart specification. See the javascript console for the full traceback.`));\n",
       "    }\n",
       "\n",
       "    if(typeof define === \"function\" && define.amd) {\n",
       "      requirejs.config({paths});\n",
       "      require([\"vega-embed\"], displayChart, err => showError(`Error loading script: ${err.message}`));\n",
       "    } else if (typeof vegaEmbed === \"function\") {\n",
       "      displayChart(vegaEmbed);\n",
       "    } else {\n",
       "      loadScript(\"vega\")\n",
       "        .then(() => loadScript(\"vega-lite\"))\n",
       "        .then(() => loadScript(\"vega-embed\"))\n",
       "        .catch(showError)\n",
       "        .then(() => displayChart(vegaEmbed));\n",
       "    }\n",
       "  })({\"config\": {\"view\": {\"continuousWidth\": 400, \"continuousHeight\": 300}}, \"data\": {\"name\": \"data-02cbc757d95c2f7d28f6820b814f65ec\"}, \"mark\": \"point\", \"encoding\": {\"x\": {\"type\": \"nominal\", \"field\": \"Date\"}, \"y\": {\"type\": \"quantitative\", \"field\": \"TempHighF\"}}, \"$schema\": \"https://vega.github.io/schema/vega-lite/v4.8.1.json\", \"datasets\": {\"data-02cbc757d95c2f7d28f6820b814f65ec\": [{\"Date\": \"2017-01-02\", \"WindHighMPH\": 15, \"TempHighF\": 73}, {\"Date\": \"2017-01-03\", \"WindHighMPH\": 12, \"TempHighF\": 75}, {\"Date\": \"2017-01-05\", \"WindHighMPH\": 15, \"TempHighF\": 62}, {\"Date\": \"2017-01-06\", \"WindHighMPH\": 17, \"TempHighF\": 34}, {\"Date\": \"2017-01-07\", \"WindHighMPH\": 12, \"TempHighF\": 44}, {\"Date\": \"2017-01-08\", \"WindHighMPH\": 14, \"TempHighF\": 53}, {\"Date\": \"2017-01-09\", \"WindHighMPH\": 15, \"TempHighF\": 71}, {\"Date\": \"2017-01-10\", \"WindHighMPH\": 17, \"TempHighF\": 79}, {\"Date\": \"2017-01-11\", \"WindHighMPH\": 16, \"TempHighF\": 80}, {\"Date\": \"2017-01-12\", \"WindHighMPH\": 14, \"TempHighF\": 81}, {\"Date\": \"2017-01-13\", \"WindHighMPH\": 14, \"TempHighF\": 78}, {\"Date\": \"2017-01-15\", \"WindHighMPH\": 17, \"TempHighF\": 73}, {\"Date\": \"2017-01-17\", \"WindHighMPH\": 14, \"TempHighF\": 59}, {\"Date\": \"2017-01-19\", \"WindHighMPH\": 12, \"TempHighF\": 71}, {\"Date\": \"2017-01-21\", \"WindHighMPH\": 21, \"TempHighF\": 81}, {\"Date\": \"2017-01-22\", \"WindHighMPH\": 24, \"TempHighF\": 70}, {\"Date\": \"2017-01-24\", \"WindHighMPH\": 14, \"TempHighF\": 84}, {\"Date\": \"2017-01-25\", \"WindHighMPH\": 15, \"TempHighF\": 69}, {\"Date\": \"2017-01-27\", \"WindHighMPH\": 13, \"TempHighF\": 58}, {\"Date\": \"2017-01-28\", \"WindHighMPH\": 14, \"TempHighF\": 61}, {\"Date\": \"2017-01-29\", \"WindHighMPH\": 14, \"TempHighF\": 70}, {\"Date\": \"2017-01-30\", \"WindHighMPH\": 12, \"TempHighF\": 79}, {\"Date\": \"2017-01-31\", \"WindHighMPH\": 13, \"TempHighF\": 78}, {\"Date\": \"2017-02-01\", \"WindHighMPH\": 14, \"TempHighF\": 82}, {\"Date\": \"2017-02-02\", \"WindHighMPH\": 13, \"TempHighF\": 64}, {\"Date\": \"2017-02-03\", \"WindHighMPH\": 13, \"TempHighF\": 53}, {\"Date\": \"2017-02-05\", \"WindHighMPH\": 12, \"TempHighF\": 72}, {\"Date\": \"2017-02-06\", \"WindHighMPH\": 12, \"TempHighF\": 78}, {\"Date\": \"2017-02-07\", \"WindHighMPH\": 13, \"TempHighF\": 86}, {\"Date\": \"2017-02-08\", \"WindHighMPH\": 18, \"TempHighF\": 87}, {\"Date\": \"2017-02-11\", \"WindHighMPH\": 12, \"TempHighF\": 86}, {\"Date\": \"2017-02-12\", \"WindHighMPH\": 14, \"TempHighF\": 79}, {\"Date\": \"2017-02-13\", \"WindHighMPH\": 18, \"TempHighF\": 78}, {\"Date\": \"2017-02-14\", \"WindHighMPH\": 20, \"TempHighF\": 67}, {\"Date\": \"2017-02-15\", \"WindHighMPH\": 16, \"TempHighF\": 65}, {\"Date\": \"2017-02-16\", \"WindHighMPH\": 12, \"TempHighF\": 70}, {\"Date\": \"2017-02-17\", \"WindHighMPH\": 13, \"TempHighF\": 77}, {\"Date\": \"2017-02-18\", \"WindHighMPH\": 12, \"TempHighF\": 86}, {\"Date\": \"2017-02-19\", \"WindHighMPH\": 20, \"TempHighF\": 81}, {\"Date\": \"2017-02-20\", \"WindHighMPH\": 21, \"TempHighF\": 70}, {\"Date\": \"2017-02-21\", \"WindHighMPH\": 15, \"TempHighF\": 82}, {\"Date\": \"2017-02-23\", \"WindHighMPH\": 15, \"TempHighF\": 90}, {\"Date\": \"2017-02-24\", \"WindHighMPH\": 17, \"TempHighF\": 80}, {\"Date\": \"2017-02-25\", \"WindHighMPH\": 13, \"TempHighF\": 63}, {\"Date\": \"2017-02-26\", \"WindHighMPH\": 12, \"TempHighF\": 72}, {\"Date\": \"2017-02-27\", \"WindHighMPH\": 13, \"TempHighF\": 82}, {\"Date\": \"2017-02-28\", \"WindHighMPH\": 14, \"TempHighF\": 80}, {\"Date\": \"2017-03-01\", \"WindHighMPH\": 21, \"TempHighF\": 73}, {\"Date\": \"2017-03-02\", \"WindHighMPH\": 13, \"TempHighF\": 66}, {\"Date\": \"2017-03-03\", \"WindHighMPH\": 14, \"TempHighF\": 71}, {\"Date\": \"2017-03-04\", \"WindHighMPH\": 13, \"TempHighF\": 59}, {\"Date\": \"2017-03-05\", \"WindHighMPH\": 12, \"TempHighF\": 75}, {\"Date\": \"2017-03-06\", \"WindHighMPH\": 16, \"TempHighF\": 84}, {\"Date\": \"2017-03-07\", \"WindHighMPH\": 17, \"TempHighF\": 77}, {\"Date\": \"2017-03-08\", \"WindHighMPH\": 12, \"TempHighF\": 76}, {\"Date\": \"2017-03-09\", \"WindHighMPH\": 14, \"TempHighF\": 80}, {\"Date\": \"2017-03-10\", \"WindHighMPH\": 12, \"TempHighF\": 83}, {\"Date\": \"2017-03-12\", \"WindHighMPH\": 18, \"TempHighF\": 62}, {\"Date\": \"2017-03-13\", \"WindHighMPH\": 12, \"TempHighF\": 70}, {\"Date\": \"2017-03-14\", \"WindHighMPH\": 12, \"TempHighF\": 73}, {\"Date\": \"2017-03-15\", \"WindHighMPH\": 14, \"TempHighF\": 75}, {\"Date\": \"2017-03-16\", \"WindHighMPH\": 14, \"TempHighF\": 79}, {\"Date\": \"2017-03-17\", \"WindHighMPH\": 15, \"TempHighF\": 83}, {\"Date\": \"2017-03-19\", \"WindHighMPH\": 12, \"TempHighF\": 85}, {\"Date\": \"2017-03-20\", \"WindHighMPH\": 13, \"TempHighF\": 85}, {\"Date\": \"2017-03-21\", \"WindHighMPH\": 13, \"TempHighF\": 85}, {\"Date\": \"2017-03-22\", \"WindHighMPH\": 14, \"TempHighF\": 83}, {\"Date\": \"2017-03-23\", \"WindHighMPH\": 24, \"TempHighF\": 85}, {\"Date\": \"2017-03-24\", \"WindHighMPH\": 17, \"TempHighF\": 83}, {\"Date\": \"2017-03-25\", \"WindHighMPH\": 12, \"TempHighF\": 84}, {\"Date\": \"2017-03-26\", \"WindHighMPH\": 18, \"TempHighF\": 86}, {\"Date\": \"2017-03-27\", \"WindHighMPH\": 13, \"TempHighF\": 86}, {\"Date\": \"2017-03-28\", \"WindHighMPH\": 22, \"TempHighF\": 86}, {\"Date\": \"2017-03-29\", \"WindHighMPH\": 15, \"TempHighF\": 84}, {\"Date\": \"2017-03-30\", \"WindHighMPH\": 15, \"TempHighF\": 82}, {\"Date\": \"2017-03-31\", \"WindHighMPH\": 18, \"TempHighF\": 86}, {\"Date\": \"2017-04-01\", \"WindHighMPH\": 16, \"TempHighF\": 76}, {\"Date\": \"2017-04-02\", \"WindHighMPH\": 16, \"TempHighF\": 77}, {\"Date\": \"2017-04-04\", \"WindHighMPH\": 14, \"TempHighF\": 89}, {\"Date\": \"2017-04-05\", \"WindHighMPH\": 21, \"TempHighF\": 75}, {\"Date\": \"2017-04-07\", \"WindHighMPH\": 12, \"TempHighF\": 81}, {\"Date\": \"2017-04-08\", \"WindHighMPH\": 15, \"TempHighF\": 82}, {\"Date\": \"2017-04-09\", \"WindHighMPH\": 15, \"TempHighF\": 81}, {\"Date\": \"2017-04-10\", \"WindHighMPH\": 13, \"TempHighF\": 80}, {\"Date\": \"2017-04-13\", \"WindHighMPH\": 14, \"TempHighF\": 82}, {\"Date\": \"2017-04-14\", \"WindHighMPH\": 12, \"TempHighF\": 84}, {\"Date\": \"2017-04-15\", \"WindHighMPH\": 14, \"TempHighF\": 84}, {\"Date\": \"2017-04-16\", \"WindHighMPH\": 14, \"TempHighF\": 84}, {\"Date\": \"2017-04-17\", \"WindHighMPH\": 16, \"TempHighF\": 80}, {\"Date\": \"2017-04-19\", \"WindHighMPH\": 14, \"TempHighF\": 85}, {\"Date\": \"2017-04-20\", \"WindHighMPH\": 12, \"TempHighF\": 88}, {\"Date\": \"2017-04-21\", \"WindHighMPH\": 14, \"TempHighF\": 89}, {\"Date\": \"2017-04-22\", \"WindHighMPH\": 14, \"TempHighF\": 73}, {\"Date\": \"2017-04-23\", \"WindHighMPH\": 14, \"TempHighF\": 77}, {\"Date\": \"2017-04-24\", \"WindHighMPH\": 14, \"TempHighF\": 82}, {\"Date\": \"2017-04-25\", \"WindHighMPH\": 16, \"TempHighF\": 90}, {\"Date\": \"2017-04-26\", \"WindHighMPH\": 18, \"TempHighF\": 91}, {\"Date\": \"2017-04-27\", \"WindHighMPH\": 15, \"TempHighF\": 86}, {\"Date\": \"2017-04-28\", \"WindHighMPH\": 17, \"TempHighF\": 95}, {\"Date\": \"2017-04-29\", \"WindHighMPH\": 18, \"TempHighF\": 92}, {\"Date\": \"2017-04-30\", \"WindHighMPH\": 18, \"TempHighF\": 78}, {\"Date\": \"2017-05-01\", \"WindHighMPH\": 14, \"TempHighF\": 91}, {\"Date\": \"2017-05-02\", \"WindHighMPH\": 16, \"TempHighF\": 92}, {\"Date\": \"2017-05-03\", \"WindHighMPH\": 18, \"TempHighF\": 95}, {\"Date\": \"2017-05-04\", \"WindHighMPH\": 18, \"TempHighF\": 79}, {\"Date\": \"2017-05-05\", \"WindHighMPH\": 13, \"TempHighF\": 86}, {\"Date\": \"2017-05-06\", \"WindHighMPH\": 12, \"TempHighF\": 91}, {\"Date\": \"2017-05-07\", \"WindHighMPH\": 15, \"TempHighF\": 88}, {\"Date\": \"2017-05-08\", \"WindHighMPH\": 16, \"TempHighF\": 84}, {\"Date\": \"2017-05-09\", \"WindHighMPH\": 12, \"TempHighF\": 76}, {\"Date\": \"2017-05-10\", \"WindHighMPH\": 14, \"TempHighF\": 83}, {\"Date\": \"2017-05-11\", \"WindHighMPH\": 15, \"TempHighF\": 88}, {\"Date\": \"2017-05-12\", \"WindHighMPH\": 14, \"TempHighF\": 88}, {\"Date\": \"2017-05-14\", \"WindHighMPH\": 13, \"TempHighF\": 93}, {\"Date\": \"2017-05-15\", \"WindHighMPH\": 15, \"TempHighF\": 92}, {\"Date\": \"2017-05-16\", \"WindHighMPH\": 20, \"TempHighF\": 86}, {\"Date\": \"2017-05-17\", \"WindHighMPH\": 14, \"TempHighF\": 90}, {\"Date\": \"2017-05-18\", \"WindHighMPH\": 20, \"TempHighF\": 94}, {\"Date\": \"2017-05-19\", \"WindHighMPH\": 18, \"TempHighF\": 95}, {\"Date\": \"2017-05-20\", \"WindHighMPH\": 15, \"TempHighF\": 84}, {\"Date\": \"2017-05-21\", \"WindHighMPH\": 14, \"TempHighF\": 78}, {\"Date\": \"2017-05-23\", \"WindHighMPH\": 21, \"TempHighF\": 86}, {\"Date\": \"2017-05-24\", \"WindHighMPH\": 12, \"TempHighF\": 87}, {\"Date\": \"2017-05-25\", \"WindHighMPH\": 17, \"TempHighF\": 94}, {\"Date\": \"2017-05-26\", \"WindHighMPH\": 13, \"TempHighF\": 92}, {\"Date\": \"2017-05-27\", \"WindHighMPH\": 15, \"TempHighF\": 97}, {\"Date\": \"2017-05-28\", \"WindHighMPH\": 18, \"TempHighF\": 94}, {\"Date\": \"2017-05-31\", \"WindHighMPH\": 17, \"TempHighF\": 85}, {\"Date\": \"2017-06-02\", \"WindHighMPH\": 12, \"TempHighF\": 92}, {\"Date\": \"2017-06-03\", \"WindHighMPH\": 12, \"TempHighF\": 92}, {\"Date\": \"2017-06-04\", \"WindHighMPH\": 12, \"TempHighF\": 91}, {\"Date\": \"2017-06-05\", \"WindHighMPH\": 25, \"TempHighF\": 90}, {\"Date\": \"2017-06-06\", \"WindHighMPH\": 14, \"TempHighF\": 92}, {\"Date\": \"2017-06-09\", \"WindHighMPH\": 13, \"TempHighF\": 90}, {\"Date\": \"2017-06-10\", \"WindHighMPH\": 14, \"TempHighF\": 93}, {\"Date\": \"2017-06-11\", \"WindHighMPH\": 13, \"TempHighF\": 93}, {\"Date\": \"2017-06-12\", \"WindHighMPH\": 15, \"TempHighF\": 94}, {\"Date\": \"2017-06-13\", \"WindHighMPH\": 18, \"TempHighF\": 98}, {\"Date\": \"2017-06-14\", \"WindHighMPH\": 14, \"TempHighF\": 96}, {\"Date\": \"2017-06-15\", \"WindHighMPH\": 13, \"TempHighF\": 99}, {\"Date\": \"2017-06-16\", \"WindHighMPH\": 16, \"TempHighF\": 98}, {\"Date\": \"2017-06-17\", \"WindHighMPH\": 15, \"TempHighF\": 101}, {\"Date\": \"2017-06-18\", \"WindHighMPH\": 13, \"TempHighF\": 100}, {\"Date\": \"2017-06-19\", \"WindHighMPH\": 13, \"TempHighF\": 92}, {\"Date\": \"2017-06-21\", \"WindHighMPH\": 14, \"TempHighF\": 97}, {\"Date\": \"2017-06-23\", \"WindHighMPH\": 14, \"TempHighF\": 104}, {\"Date\": \"2017-06-24\", \"WindHighMPH\": 13, \"TempHighF\": 85}, {\"Date\": \"2017-06-25\", \"WindHighMPH\": 13, \"TempHighF\": 90}, {\"Date\": \"2017-06-26\", \"WindHighMPH\": 15, \"TempHighF\": 91}, {\"Date\": \"2017-06-27\", \"WindHighMPH\": 20, \"TempHighF\": 91}, {\"Date\": \"2017-06-29\", \"WindHighMPH\": 13, \"TempHighF\": 99}, {\"Date\": \"2017-06-30\", \"WindHighMPH\": 16, \"TempHighF\": 98}, {\"Date\": \"2017-07-01\", \"WindHighMPH\": 15, \"TempHighF\": 98}, {\"Date\": \"2017-07-02\", \"WindHighMPH\": 14, \"TempHighF\": 100}, {\"Date\": \"2017-07-03\", \"WindHighMPH\": 13, \"TempHighF\": 99}, {\"Date\": \"2017-07-04\", \"WindHighMPH\": 13, \"TempHighF\": 101}, {\"Date\": \"2017-07-05\", \"WindHighMPH\": 13, \"TempHighF\": 99}, {\"Date\": \"2017-07-06\", \"WindHighMPH\": 12, \"TempHighF\": 100}, {\"Date\": \"2017-07-07\", \"WindHighMPH\": 15, \"TempHighF\": 99}, {\"Date\": \"2017-07-09\", \"WindHighMPH\": 12, \"TempHighF\": 101}, {\"Date\": \"2017-07-10\", \"WindHighMPH\": 12, \"TempHighF\": 100}, {\"Date\": \"2017-07-11\", \"WindHighMPH\": 14, \"TempHighF\": 101}, {\"Date\": \"2017-07-12\", \"WindHighMPH\": 13, \"TempHighF\": 101}, {\"Date\": \"2017-07-14\", \"WindHighMPH\": 15, \"TempHighF\": 101}, {\"Date\": \"2017-07-15\", \"WindHighMPH\": 23, \"TempHighF\": 103}, {\"Date\": \"2017-07-16\", \"WindHighMPH\": 12, \"TempHighF\": 99}, {\"Date\": \"2017-07-17\", \"WindHighMPH\": 16, \"TempHighF\": 98}, {\"Date\": \"2017-07-18\", \"WindHighMPH\": 14, \"TempHighF\": 100}, {\"Date\": \"2017-07-19\", \"WindHighMPH\": 18, \"TempHighF\": 101}, {\"Date\": \"2017-07-20\", \"WindHighMPH\": 14, \"TempHighF\": 103}, {\"Date\": \"2017-07-21\", \"WindHighMPH\": 14, \"TempHighF\": 104}, {\"Date\": \"2017-07-22\", \"WindHighMPH\": 13, \"TempHighF\": 103}, {\"Date\": \"2017-07-23\", \"WindHighMPH\": 13, \"TempHighF\": 103}, {\"Date\": \"2017-07-24\", \"WindHighMPH\": 13, \"TempHighF\": 102}, {\"Date\": \"2017-07-25\", \"WindHighMPH\": 15, \"TempHighF\": 103}, {\"Date\": \"2017-07-26\", \"WindHighMPH\": 15, \"TempHighF\": 103}, {\"Date\": \"2017-07-27\", \"WindHighMPH\": 12, \"TempHighF\": 103}, {\"Date\": \"2017-07-28\", \"WindHighMPH\": 14, \"TempHighF\": 105}, {\"Date\": \"2017-07-29\", \"WindHighMPH\": 12, \"TempHighF\": 107}, {\"Date\": \"2017-07-30\", \"WindHighMPH\": 13, \"TempHighF\": 106}, {\"Date\": \"2017-07-31\", \"WindHighMPH\": 12, \"TempHighF\": 99}]}}, {\"mode\": \"vega-lite\"});\n",
       "</script>"
      ],
      "text/plain": [
       "alt.Chart(...)"
      ]
     },
     "execution_count": 45,
     "metadata": {},
     "output_type": "execute_result"
    }
   ],
   "source": [
    "alt.Chart(data).mark_point().encode(\n",
    "    x = 'Date',\n",
    "    y='TempHighF')"
   ]
  },
  {
   "cell_type": "code",
   "execution_count": null,
   "id": "contained-snake",
   "metadata": {},
   "outputs": [],
   "source": []
  }
 ],
 "metadata": {
  "interpreter": {
   "hash": "6114b2ecdb3dbf269466423d7f8a4c7ea08a980c6108a678dde6d7f806f98fb1"
  },
  "kernelspec": {
   "display_name": "Python [conda env:testenv] *",
   "language": "python",
   "name": "python3"
  },
  "language_info": {
   "codemirror_mode": {
    "name": "ipython",
    "version": 3
   },
   "file_extension": ".py",
   "mimetype": "text/x-python",
   "name": "python",
   "nbconvert_exporter": "python",
   "pygments_lexer": "ipython3",
   "version": "3.9.7"
  }
 },
 "nbformat": 4,
 "nbformat_minor": 5
}
