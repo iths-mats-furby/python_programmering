{
 "cells": [
  {
   "cell_type": "code",
   "execution_count": 1,
   "source": [
    "import sqlite3"
   ],
   "outputs": [],
   "metadata": {}
  },
  {
   "cell_type": "markdown",
   "source": [
    "# Connecting to a new database \r\n",
    "\r\n",
    "If there is no database, it will be created.\r\n",
    "\r\n",
    "A cursor object is required to speak SQL with the database\r\n",
    "\r\n"
   ],
   "metadata": {}
  },
  {
   "cell_type": "code",
   "execution_count": 2,
   "source": [
    "db = sqlite3.connect('database.db')\r\n",
    "cur = db.cursor()"
   ],
   "outputs": [],
   "metadata": {}
  },
  {
   "cell_type": "markdown",
   "source": [
    "# Creating a new table in our database\r\n",
    "\r\n",
    "Syntax:\r\n",
    "\r\n",
    "CREATE TABLE table (\r\n",
    "    column1 datatype,\r\n",
    "    column2 datatype)"
   ],
   "metadata": {}
  },
  {
   "cell_type": "code",
   "execution_count": 5,
   "source": [
    "cur.execute(''' CREATE TABLE IF NOT EXISTS store(store_id integer, name text, location text )''')"
   ],
   "outputs": [
    {
     "output_type": "error",
     "ename": "OperationalError",
     "evalue": "table store already exists",
     "traceback": [
      "\u001b[1;31m---------------------------------------------------------------------------\u001b[0m",
      "\u001b[1;31mOperationalError\u001b[0m                          Traceback (most recent call last)",
      "\u001b[1;32m<ipython-input-5-6e90aaf19bc6>\u001b[0m in \u001b[0;36m<module>\u001b[1;34m\u001b[0m\n\u001b[1;32m----> 1\u001b[1;33m \u001b[0mcur\u001b[0m\u001b[1;33m.\u001b[0m\u001b[0mexecute\u001b[0m\u001b[1;33m(\u001b[0m\u001b[1;34m''' CREATE TABLE store(store_id float, name text, location text )'''\u001b[0m\u001b[1;33m)\u001b[0m\u001b[1;33m\u001b[0m\u001b[1;33m\u001b[0m\u001b[0m\n\u001b[0m",
      "\u001b[1;31mOperationalError\u001b[0m: table store already exists"
     ]
    }
   ],
   "metadata": {}
  },
  {
   "cell_type": "code",
   "execution_count": 25,
   "source": [
    "db.commit()"
   ],
   "outputs": [],
   "metadata": {}
  },
  {
   "cell_type": "markdown",
   "source": [
    "# Create"
   ],
   "metadata": {}
  },
  {
   "cell_type": "code",
   "execution_count": 7,
   "source": [
    "cur.execute('''INSERT INTO store VALUES(1234, 'Espresso house', 'Trelleborg')''')\r\n",
    "cur.execute('''INSERT INTO store VALUES(321, 'Espresso house', 'Lund')''')\r\n",
    "db.commit()"
   ],
   "outputs": [],
   "metadata": {}
  },
  {
   "cell_type": "code",
   "execution_count": 8,
   "source": [
    "data = (71273821, 'Ica', 'Lund')\r\n",
    "cur.execute('''INSERT INTO store VALUES (?,?,?)''', data)\r\n",
    "db.commit()"
   ],
   "outputs": [],
   "metadata": {}
  },
  {
   "cell_type": "markdown",
   "source": [
    "# Read\r\n",
    "\r\n",
    "In SQL the read method is called SELECT. \r\n",
    "\r\n",
    "Syntax: SELECT columns FROM table WHERE condition\r\n",
    "\r\n",
    "We need to use a fetch command with the cursor to actually get the data"
   ],
   "metadata": {}
  },
  {
   "cell_type": "code",
   "execution_count": 11,
   "source": [
    "cur.execute(\"SELECT name FROM store WHERE location = 'Lund'\")\r\n",
    "cur.fetchall()"
   ],
   "outputs": [
    {
     "output_type": "execute_result",
     "data": {
      "text/plain": [
       "[('Espresso house',), ('Ica',)]"
      ]
     },
     "metadata": {},
     "execution_count": 11
    }
   ],
   "metadata": {}
  },
  {
   "cell_type": "code",
   "execution_count": 12,
   "source": [
    "out = cur.execute('SELECT * FROM store')\r\n",
    "for item in out:\r\n",
    "    print(item)"
   ],
   "outputs": [
    {
     "output_type": "stream",
     "name": "stdout",
     "text": [
      "(123, 'Espresso house', 'Malmö')\n",
      "(1234, 'Espresso house', 'Trelleborg')\n",
      "(321, 'Espresso house', 'Lund')\n",
      "(71273821, 'Ica', 'Lund')\n"
     ]
    }
   ],
   "metadata": {}
  },
  {
   "cell_type": "markdown",
   "source": [
    "# Update\r\n",
    "\r\n",
    "Syntax: UPDATE table SET column1 = x, column2 = y WHERE condition"
   ],
   "metadata": {}
  },
  {
   "cell_type": "code",
   "execution_count": 16,
   "source": [
    "cur.execute(\"\"\"UPDATE store \r\n",
    "            SET name = 'EH' \r\n",
    "            WHERE name = 'Espresso house'\"\"\")\r\n",
    "db.commit()"
   ],
   "outputs": [],
   "metadata": {}
  },
  {
   "cell_type": "markdown",
   "source": [
    "# Delete\r\n",
    "\r\n",
    "Syntax: DELETE FROM table WHERE condition"
   ],
   "metadata": {}
  },
  {
   "cell_type": "code",
   "execution_count": 17,
   "source": [
    "cur.execute('DELETE FROM store WHERE store_id = 123')\r\n",
    "db.commit()"
   ],
   "outputs": [],
   "metadata": {}
  },
  {
   "cell_type": "markdown",
   "source": [
    "# Implement a database for stores and their sales\r\n",
    "\r\n",
    "Specs:\r\n",
    "- table stores\r\n",
    "- table sales\r\n",
    "- table products"
   ],
   "metadata": {}
  },
  {
   "cell_type": "code",
   "execution_count": 18,
   "source": [
    "db = sqlite3.connect('company.db')\r\n",
    "cur = db.cursor()"
   ],
   "outputs": [],
   "metadata": {}
  },
  {
   "cell_type": "code",
   "execution_count": 20,
   "source": [
    "cur.execute('''CREATE TABLE IF NOT EXISTS stores(\r\n",
    "    id integer,\r\n",
    "    name text,\r\n",
    "    location text)''')\r\n",
    "\r\n",
    "cur.execute(\"\"\" CREATE TABLE IF NOT EXISTS sales(\r\n",
    "    id integer,\r\n",
    "    product_id integer,\r\n",
    "    store_id integer,\r\n",
    "    price float)\"\"\")\r\n",
    "\r\n",
    "cur.execute(\"\"\" CREATE TABLE IF NOT EXISTS products(\r\n",
    "    id integer,\r\n",
    "    name text,\r\n",
    "    price float)\"\"\")\r\n",
    "\r\n",
    "db.commit()"
   ],
   "outputs": [],
   "metadata": {}
  },
  {
   "cell_type": "code",
   "execution_count": 21,
   "source": [
    "cur.execute(\"INSERT INTO stores VALUES (123, 'Ica', 'Malmö')\")\r\n",
    "cur.execute(\"INSERT INTO stores VALUES (124, 'Ica', 'Lund')\")\r\n",
    "db.commit()"
   ],
   "outputs": [],
   "metadata": {}
  },
  {
   "cell_type": "code",
   "execution_count": 22,
   "source": [
    "data = (125, 'Ica', 'Trelleborg')\r\n",
    "cur.execute(\"INSERT INTO stores VALUES (?,?,?)\", data)\r\n",
    "db.commit()"
   ],
   "outputs": [],
   "metadata": {}
  },
  {
   "cell_type": "code",
   "execution_count": 23,
   "source": [
    "cur.execute(\"INSERT INTO products VALUES(1,'Mjölk', 587)\")\r\n",
    "db.commit()"
   ],
   "outputs": [],
   "metadata": {}
  },
  {
   "cell_type": "code",
   "execution_count": 25,
   "source": [
    "cur.execute(\"UPDATE products SET price = 12 WHERE name = 'Mjölk'\")\r\n",
    "db.commit()"
   ],
   "outputs": [],
   "metadata": {}
  },
  {
   "cell_type": "code",
   "execution_count": 35,
   "source": [
    "items = cur.execute(\"SELECT location FROM stores WHERE name = 'Ica' \")\r\n",
    "for item in items:\r\n",
    "    print(item)"
   ],
   "outputs": [
    {
     "output_type": "stream",
     "name": "stdout",
     "text": [
      "('Malmö',)\n",
      "('Lund',)\n",
      "('Trelleborg',)\n"
     ]
    }
   ],
   "metadata": {}
  },
  {
   "cell_type": "code",
   "execution_count": 34,
   "source": [
    "cur.execute('INSERT INTO sales VALUES(19879, 1, 124, 12)')\r\n",
    "cur.execute('INSERT INTO sales VALUES(19880, 1, 123, 12)')\r\n",
    "cur.execute('INSERT INTO sales VALUES(19885, 1, 123, 12)')\r\n",
    "cur.execute('INSERT INTO sales VALUES(19886, 1, 123, 12)')\r\n",
    "\r\n",
    "db.commit()"
   ],
   "outputs": [],
   "metadata": {}
  },
  {
   "cell_type": "code",
   "execution_count": null,
   "source": [],
   "outputs": [],
   "metadata": {}
  }
 ],
 "metadata": {
  "orig_nbformat": 4,
  "language_info": {
   "name": "python",
   "version": "3.8.5",
   "mimetype": "text/x-python",
   "codemirror_mode": {
    "name": "ipython",
    "version": 3
   },
   "pygments_lexer": "ipython3",
   "nbconvert_exporter": "python",
   "file_extension": ".py"
  },
  "kernelspec": {
   "name": "python3",
   "display_name": "Python 3.8.5 64-bit ('testenv': conda)"
  },
  "interpreter": {
   "hash": "90a775dba264a3fbd2874aa8d2c617d6af4792ab916a4d5acb08ed754f49b4c1"
  }
 },
 "nbformat": 4,
 "nbformat_minor": 2
}