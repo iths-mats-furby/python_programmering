{
 "cells": [
  {
   "cell_type": "markdown",
   "id": "bound-religious",
   "metadata": {},
   "source": [
    "# Exceptions, errors and stack trace\n",
    "\n",
    "- Use try, catch, finally\n",
    "- Look at a stack trace\n",
    "- Use raise\n",
    "- Debug in VScode"
   ]
  },
  {
   "cell_type": "code",
   "execution_count": null,
   "id": "conscious-automation",
   "metadata": {},
   "outputs": [],
   "source": [
    "try:\n",
    "    # Python will always try to run this code\n",
    "    \n",
    "except:\n",
    "    # If python encountered an exception during try\n",
    "    # this code will run\n",
    "    "
   ]
  },
  {
   "cell_type": "code",
   "execution_count": null,
   "id": "secret-differential",
   "metadata": {},
   "outputs": [],
   "source": [
    "try:\n",
    "    # Code\n",
    "\n",
    "except NameError as e:\n",
    "    # This time we will only catch a NameError\n",
    "    # and we'll print it \n",
    "    print(e)"
   ]
  },
  {
   "cell_type": "markdown",
   "id": "featured-conservative",
   "metadata": {},
   "source": [
    "### Finally\n",
    "\n",
    "Finally isn't necessary, but if it exists it will always run whatever happens in the try or except block\n",
    "\n"
   ]
  },
  {
   "cell_type": "code",
   "execution_count": null,
   "id": "crude-least",
   "metadata": {},
   "outputs": [],
   "source": [
    "\n",
    "try:\n",
    "    x = 5 / 0\n",
    "    print(x)\n",
    "    \n",
    "except Exception as e:\n",
    "    print(e)\n",
    "    \n",
    "# except ZeroDivisionError as e:\n",
    "    \n",
    "finally:\n",
    "    print('Ah, finally...')"
   ]
  },
  {
   "cell_type": "markdown",
   "id": "numerous-pottery",
   "metadata": {},
   "source": [
    "## Stack trace\n",
    "\n",
    "\n",
    "Let's try using the below functions"
   ]
  },
  {
   "cell_type": "code",
   "execution_count": 3,
   "id": "focal-soundtrack",
   "metadata": {},
   "outputs": [],
   "source": [
    "def print_section(text):\n",
    "    print('------New entry------')\n",
    "    print('\\n')\n",
    "    print(texts)\n",
    "    print('\\n')\n",
    "    \n",
    "def ask_names():\n",
    "    names = []\n",
    "    cont = True\n",
    "    while cont:\n",
    "        i = input('Enter a name. To finish, enter q: ')\n",
    "        if i == 'q':\n",
    "            cont = False\n",
    "        else:\n",
    "            names.append(i)\n",
    "            \n",
    "    for name in names:\n",
    "        print_section(name)    \n",
    "    \n",
    "ask_names()"
   ]
  },
  {
   "cell_type": "markdown",
   "id": "cleared-pantyhose",
   "metadata": {},
   "source": [
    "## Raising exceptions\n",
    "\n"
   ]
  },
  {
   "cell_type": "code",
   "execution_count": 5,
   "id": "fixed-married",
   "metadata": {},
   "outputs": [
    {
     "ename": "ValueError",
     "evalue": "Negative numbers are not allowed!",
     "output_type": "error",
     "traceback": [
      "\u001b[1;31m---------------------------------------------------------------------------\u001b[0m",
      "\u001b[1;31mValueError\u001b[0m                                Traceback (most recent call last)",
      "\u001b[1;32m<ipython-input-5-7a2597bc8a41>\u001b[0m in \u001b[0;36m<module>\u001b[1;34m\u001b[0m\n\u001b[0;32m      2\u001b[0m \u001b[1;33m\u001b[0m\u001b[0m\n\u001b[0;32m      3\u001b[0m \u001b[1;32mif\u001b[0m \u001b[0ma\u001b[0m \u001b[1;33m<\u001b[0m \u001b[1;36m0\u001b[0m\u001b[1;33m:\u001b[0m\u001b[1;33m\u001b[0m\u001b[1;33m\u001b[0m\u001b[0m\n\u001b[1;32m----> 4\u001b[1;33m     \u001b[1;32mraise\u001b[0m \u001b[0mValueError\u001b[0m\u001b[1;33m(\u001b[0m\u001b[1;34m'Negative numbers are not allowed!'\u001b[0m\u001b[1;33m)\u001b[0m\u001b[1;33m\u001b[0m\u001b[1;33m\u001b[0m\u001b[0m\n\u001b[0m",
      "\u001b[1;31mValueError\u001b[0m: Negative numbers are not allowed!"
     ]
    }
   ],
   "source": [
    "a = -5\n",
    "\n",
    "if a < 0:\n",
    "    raise ValueError('Negative numbers are not allowed!')\n"
   ]
  },
  {
   "cell_type": "code",
   "execution_count": 9,
   "id": "difficult-leather",
   "metadata": {},
   "outputs": [],
   "source": [
    "def check_number(a):\n",
    "    if a < 0:\n",
    "        raise ValueError('Negative numbers are not allowed!')\n",
    "    else:\n",
    "        pass\n",
    "    \n",
    "    \n",
    "def process_number(a):\n",
    "    try:\n",
    "        check_number(a)\n",
    "    except ValueError as e:\n",
    "        print(e)\n",
    "        print('Exiting.')\n",
    "        return\n",
    "    \n",
    "    # more code .... "
   ]
  },
  {
   "cell_type": "code",
   "execution_count": 10,
   "id": "employed-trainer",
   "metadata": {},
   "outputs": [
    {
     "name": "stdout",
     "output_type": "stream",
     "text": [
      "Negative numbers are not allowed!\n",
      "Exiting...\n"
     ]
    }
   ],
   "source": [
    "process_number(-5)"
   ]
  },
  {
   "cell_type": "code",
   "execution_count": null,
   "id": "portuguese-encoding",
   "metadata": {},
   "outputs": [],
   "source": []
  }
 ],
 "metadata": {
  "kernelspec": {
   "display_name": "Python [conda env:testenv] *",
   "language": "python",
   "name": "conda-env-testenv-py"
  }
 },
 "nbformat": 4,
 "nbformat_minor": 5
}
