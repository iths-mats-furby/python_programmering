{
 "cells": [
  {
   "cell_type": "code",
   "execution_count": 1,
   "metadata": {},
   "outputs": [
    {
     "ename": "ImportError",
     "evalue": "cannot import name 'databashantering' from 'Test' (unknown location)",
     "output_type": "error",
     "traceback": [
      "\u001b[1;31m---------------------------------------------------------------------------\u001b[0m",
      "\u001b[1;31mImportError\u001b[0m                               Traceback (most recent call last)",
      "\u001b[1;32m~\\AppData\\Local\\Temp/ipykernel_5128/381534724.py\u001b[0m in \u001b[0;36m<module>\u001b[1;34m\u001b[0m\n\u001b[0;32m      1\u001b[0m \u001b[1;32mimport\u001b[0m \u001b[0mpandas\u001b[0m \u001b[1;32mas\u001b[0m \u001b[0mpd\u001b[0m\u001b[1;33m\u001b[0m\u001b[1;33m\u001b[0m\u001b[0m\n\u001b[0;32m      2\u001b[0m \u001b[1;32mimport\u001b[0m \u001b[0msqlite3\u001b[0m\u001b[1;33m\u001b[0m\u001b[1;33m\u001b[0m\u001b[0m\n\u001b[1;32m----> 3\u001b[1;33m \u001b[1;32mfrom\u001b[0m \u001b[0mTest\u001b[0m \u001b[1;32mimport\u001b[0m \u001b[0mdatabashantering\u001b[0m\u001b[1;33m\u001b[0m\u001b[1;33m\u001b[0m\u001b[0m\n\u001b[0m\u001b[0;32m      4\u001b[0m \u001b[1;31m#from test\u001b[0m\u001b[1;33m\u001b[0m\u001b[1;33m\u001b[0m\u001b[0m\n\u001b[0;32m      5\u001b[0m \u001b[1;31m#from pathlib import Path\u001b[0m\u001b[1;33m\u001b[0m\u001b[1;33m\u001b[0m\u001b[0m\n",
      "\u001b[1;31mImportError\u001b[0m: cannot import name 'databashantering' from 'Test' (unknown location)"
     ]
    }
   ],
   "source": [
    "import pandas as pd\n",
    "import sqlite3\n",
    "from Test1 import databashantering\n",
    "#from test \n",
    "#from pathlib import Path\n",
    "\n",
    "def main():\n",
    "    db = databashantering()\n",
    "    data = db.Test1('vaccin_covid.csv') \n",
    "    #pd.read_csv('vaccin_covid.csv') #seed_database()\n",
    "    #self.df = pd.read_csv('vaccin_covid.csv')\n",
    "    db.table_create_and_insert() #create_database (tab_name, groupselect_table1, AVGselect_table2))\n",
    "    # tab_name, groupselect_table1, AVGselect_table2\n",
    "    db.seed_database()\n",
    "    #db = (\"vaccin_covid.csv\")  #databashantering = sqlite3.connect(\"corona_vacc.db\") # (\"corona_vacc.db\")\n",
    "    #db = databashantering # (\"corona_vacc.db\")\n",
    "    print(\"Hello main!\") # Will be printed\n",
    "    #db.create.database()\n",
    "    #vax.col()b\n",
    "#corona_vacc_df.head()\n",
    "if __name__ == \"__main__\":\n",
    "    main() # Call on the main function"
   ]
  },
  {
   "cell_type": "code",
   "execution_count": null,
   "metadata": {},
   "outputs": [],
   "source": []
  }
 ],
 "metadata": {
  "interpreter": {
   "hash": "eefde1aada96a7840144b4fc32f29725d9a3acc36df636352d8f87553f2bd7d1"
  },
  "kernelspec": {
   "display_name": "Python 3.9.7 64-bit ('JUP_env': conda)",
   "language": "python",
   "name": "python3"
  },
  "language_info": {
   "codemirror_mode": {
    "name": "ipython",
    "version": 3
   },
   "file_extension": ".py",
   "mimetype": "text/x-python",
   "name": "python",
   "nbconvert_exporter": "python",
   "pygments_lexer": "ipython3",
   "version": "3.9.7"
  },
  "orig_nbformat": 4
 },
 "nbformat": 4,
 "nbformat_minor": 2
}
