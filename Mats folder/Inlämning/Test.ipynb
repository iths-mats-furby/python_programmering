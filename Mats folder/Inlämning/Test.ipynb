{
 "cells": [
  {
   "cell_type": "code",
   "execution_count": 1,
   "metadata": {},
   "outputs": [],
   "source": [
    "import pandas as pd\n",
    "import sqlite3\n",
    "#from Test1 import databashantering\n",
    "\n",
    "class databashantering():\n",
    "    def __init__(self, db_name:str, csv:str, csv:str, table_name):\n",
    "        self.db_name = db_name\n",
    "        self.csv = csv\n",
    "        self.table_name = table_name\n",
    "        self.df = pd.read_csv(\"vaccin_covid.csv\") #self.csv\n",
    "        self.db = sqlite3.connect(\"vaccin_covid.db\") #self.db_name\n",
    "        self.cur =self.db.cursor()\n",
    "\n",
    "    def seperate(self, column_name, seperator):\n",
    "        self.column_name = column_name\n",
    "        self.seperator = seperator\n",
    "        splittad = self.df[self.column_name] .str.split(self.seperator, expand=True)\n",
    "        self.df = self.df.join(splittad)\n",
    "        del self.df[self.column_name]\n",
    "\n",
    "    def seed_database(self):\n",
    "        self.df.to_sql(self.table_name, self.db)\n",
    "        self.db.commit()\n",
    "    \n",
    "    def table_create_and_insert(self, tab_name, groupselect_table1, AVGselect_table2):\n",
    "        self.groupselect_table1 = groupselect_table1\n",
    "        self.AVGselect_table2 =AVGselect_table2\n",
    "        self.tab_name = tab_name\n",
    "        self.cur.execute(\"\"\"CREATE TABLE {self.tab.name}, AS SELECT DISTINCT {self.groupselect_table1}, \n",
    "        AVG({self.groupselect_table1}), GROUP BY {groupselect_table1}\"\"\")\n",
    "\n",
    "\n",
    "#P-kod\n",
    "\n"
   ]
  },
  {
   "cell_type": "code",
   "execution_count": null,
   "metadata": {},
   "outputs": [],
   "source": [
    "#import pandas as pd\n",
    "#import sqlite3\n",
    "#from Test1 import databashantering\n",
    "#from test \n",
    "#from pathlib import Path\n",
    "\n",
    "def main():\n",
    "    db = databashantering()\n",
    "    data = db.Test1('vaccin_covid.csv') \n",
    "    #pd.read_csv('vaccin_covid.csv') #seed_database()\n",
    "    #self.df = pd.read_csv('vaccin_covid.csv')\n",
    "    db.table_create_and_insert() #create_database (tab_name, groupselect_table1, AVGselect_table2))\n",
    "    # tab_name, groupselect_table1, AVGselect_table2\n",
    "    db.seed_database()\n",
    "    #db = (\"vaccin_covid.csv\")  #databashantering = sqlite3.connect(\"corona_vacc.db\") # (\"corona_vacc.db\")\n",
    "    #db = databashantering # (\"corona_vacc.db\")\n",
    "    print(\"Hello main!\") # Will be printed\n",
    "    #db.create.database()\n",
    "    #vax.col()b\n",
    "#corona_vacc_df.head()\n",
    "if __name__ == \"__main__\":\n",
    "    main() # Call on the main function"
   ]
  }
 ],
 "metadata": {
  "interpreter": {
   "hash": "eefde1aada96a7840144b4fc32f29725d9a3acc36df636352d8f87553f2bd7d1"
  },
  "kernelspec": {
   "display_name": "Python 3.9.7 64-bit ('JUP_env': conda)",
   "language": "python",
   "name": "python3"
  },
  "language_info": {
   "codemirror_mode": {
    "name": "ipython",
    "version": 3
   },
   "file_extension": ".py",
   "mimetype": "text/x-python",
   "name": "python",
   "nbconvert_exporter": "python",
   "pygments_lexer": "ipython3",
   "version": "3.9.7"
  },
  "orig_nbformat": 4
 },
 "nbformat": 4,
 "nbformat_minor": 2
}
