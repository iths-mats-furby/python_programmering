{
 "cells": [
  {
   "cell_type": "code",
   "execution_count": 1,
   "metadata": {},
   "outputs": [],
   "source": [
    "import pandas as pd\n",
    "import sqlite3\n",
    "\n",
    "class databashantering():\n",
    "    def __init__(self, db_name:str, csv:str, CSV:str, table_name):\n",
    "        self.db_name = db_name\n",
    "        self.csv = csv\n",
    "        self.table_name = table_name\n",
    "        self.df = pd.read_csv(\"vaccin_covid.csv\") #self.csv\n",
    "        self.db = sqlite3.connect(\"vaccin_covid.db\") #self.db_name\n",
    "        self.cur =self.db.cursor()\n",
    "\n",
    "    def seperate(self, column_name, seperator):\n",
    "        self.column_name = column_name\n",
    "        self.seperator = seperator\n",
    "        splittad = self.df[self.coulmn_name] .str.split(self.seperator, expand=True)\n",
    "        self.df = self.df.join(splittad)\n",
    "        del self.df[self.column_name]\n",
    "\n",
    "    def seed_database(self):\n",
    "        self.df.to_sql(self.table_name, self.db)\n",
    "        self.db.commit()\n",
    "    \n",
    "    def table_create_and_insert(self, tab_name, groupselect_table1, AVGselect_table2):\n",
    "        self.groupselect_table1 = groupselect_table1\n",
    "        self.AVGselect_table2 =AVGselect_table2\n",
    "        self.tab_name = tab_name\n",
    "        self.cur.execute(\"\"\"CREATE TABLE {self.tab.name}, AS SELECT DISTINCT {self.groupselect_table1}, \n",
    "        AVG({self.groupselect_table1}), GROUP BY {groupselect_table1}\"\"\")\n",
    "\n",
    "\n",
    "#P-kod"
   ]
  },
  {
   "cell_type": "code",
   "execution_count": null,
   "metadata": {},
   "outputs": [],
   "source": []
  }
 ],
 "metadata": {
  "interpreter": {
   "hash": "eefde1aada96a7840144b4fc32f29725d9a3acc36df636352d8f87553f2bd7d1"
  },
  "kernelspec": {
   "display_name": "Python 3.9.7 64-bit ('JUP_env': conda)",
   "language": "python",
   "name": "python3"
  },
  "language_info": {
   "codemirror_mode": {
    "name": "ipython",
    "version": 3
   },
   "file_extension": ".py",
   "mimetype": "text/x-python",
   "name": "python",
   "nbconvert_exporter": "python",
   "pygments_lexer": "ipython3",
   "version": "3.9.7"
  },
  "orig_nbformat": 4
 },
 "nbformat": 4,
 "nbformat_minor": 2
}
