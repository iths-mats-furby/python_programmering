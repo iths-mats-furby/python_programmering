{
 "cells": [
  {
   "cell_type": "code",
   "execution_count": 4,
   "metadata": {},
   "outputs": [
    {
     "ename": "IndentationError",
     "evalue": "expected an indented block (Temp/ipykernel_14956/1118110808.py, line 42)",
     "output_type": "error",
     "traceback": [
      "\u001b[1;36m  File \u001b[1;32m\"C:\\Users\\hjalp\\AppData\\Local\\Temp/ipykernel_14956/1118110808.py\"\u001b[1;36m, line \u001b[1;32m42\u001b[0m\n\u001b[1;33m    self.table_name = table_name\u001b[0m\n\u001b[1;37m    ^\u001b[0m\n\u001b[1;31mIndentationError\u001b[0m\u001b[1;31m:\u001b[0m expected an indented block\n"
     ]
    }
   ],
   "source": [
    "#from ipaddress import collapse_addresses\n",
    "#from optparse import Values\n",
    "import sqlite3\n",
    "import pandas as pd\n",
    "#import matplotlib.pyplot as pit\n",
    "#from pathlib import Path\n",
    "\n",
    "class SqlDatabaseConn():\n",
    "        def read_csv(self):\n",
    "            self.df = pd.read_csv('vaccin-covid.csv')\n",
    "            print(\"read_csv fungerar\")\n",
    "\n",
    "class CleanData(SqlDatabaseConn):\n",
    "        def __init__(self, column_name):\n",
    "            self.column_name = column_name\n",
    "        \n",
    "        def replace_Nan(self):\n",
    "            self.df = self.df.fillna(0, inplace=True)\n",
    "            print(\"fillna fungerar\")\n",
    "        #Ersätter NA-värden med 0\n",
    "\n",
    "        def clean_data(self):\n",
    "            self.df = self\n",
    "            trim_strings = lambda x: x.strip() if isinstance(x, str) else x\n",
    "            return self.df.applymap(trim_strings)\n",
    "        #Tar bort mellanslag\n",
    "\n",
    "        def split_columns(self):\n",
    "            self.df[{self.column_name}] = self.pd[{self.column_name}].str.split(',', extend = True)\n",
    "        #Datan ska lagras i en två dimisionell tabell\n",
    "\n",
    "        def sep_rows(self):\n",
    "            self.df = self.df.explode(\"vaccine\").reset_index(drop=True)\n",
    "        #Delar upp listan till rader\n",
    "\n",
    "        def drop_duplicates(self):\n",
    "            self.df.drop_duplicates()\n",
    "        #Droppa dubbletter\n",
    "\n",
    "class CoronaTables(CleanData, SqlDatabaseConn):\n",
    "        def __init__(self, table_name, col, values):\n",
    "        self.table_name = table_name\n",
    "        self.col = col\n",
    "        self.values = values\n",
    "\n",
    "        def create_tables(self):\n",
    "            db_con = sqlite3.connect('vaccin_covid.db') \n",
    "            cursor = db_con.cursor()\n",
    "            cursor.execute(f\"CREATE TABLE IF NOT EXISTS {self.table_name} (id INTEGER PRIMARY KEY, {self.col}, TEXT)\")\n",
    "            db_con.commit()\n",
    "        #Skapa en tabell\n",
    "\n",
    "        def insert_to_tables(self):\n",
    "            db_con = sqlite3.connect('vaccin_covid.db') \n",
    "            cursor = db_con.cursor() \n",
    "            cursor.execute(f\"INSERT INTO {self.table_name} VALUES{self.values}, {self.df}\")\n",
    "            db_con.commit()\n",
    "        #Sätt in värdena i tabellen\n",
    "\n",
    "\n",
    "def main():\n",
    "    start = CoronaTables(\"vaccines\", \"vaccine\", \"?\")\n",
    "    start.insert_to_tables()\n",
    "    start_clean_data = CleanData(\"vaccines\")\n",
    "    start_clean_data.replace_Nan()\n",
    "\n",
    "if __name__ == \"__main__\":\n",
    "    main()"
   ]
  },
  {
   "cell_type": "code",
   "execution_count": 5,
   "metadata": {},
   "outputs": [
    {
     "ename": "NameError",
     "evalue": "name 'self' is not defined",
     "output_type": "error",
     "traceback": [
      "\u001b[1;31m---------------------------------------------------------------------------\u001b[0m",
      "\u001b[1;31mNameError\u001b[0m                                 Traceback (most recent call last)",
      "\u001b[1;32m~\\AppData\\Local\\Temp/ipykernel_14956/4143321859.py\u001b[0m in \u001b[0;36m<module>\u001b[1;34m\u001b[0m\n\u001b[1;32m----> 1\u001b[1;33m \u001b[0mprint\u001b[0m\u001b[1;33m(\u001b[0m\u001b[0mself\u001b[0m\u001b[1;33m)\u001b[0m\u001b[1;33m\u001b[0m\u001b[1;33m\u001b[0m\u001b[0m\n\u001b[0m",
      "\u001b[1;31mNameError\u001b[0m: name 'self' is not defined"
     ]
    }
   ],
   "source": [
    "print(self)\n"
   ]
  },
  {
   "cell_type": "code",
   "execution_count": null,
   "metadata": {},
   "outputs": [],
   "source": []
  }
 ],
 "metadata": {
  "interpreter": {
   "hash": "9cd9a81cfcf7325f4617ab79b8168fb9029636eafcf543ae5e9b1e199c5a170c"
  },
  "kernelspec": {
   "display_name": "Python 3.8.12 64-bit ('testenv': conda)",
   "language": "python",
   "name": "python3"
  },
  "language_info": {
   "codemirror_mode": {
    "name": "ipython",
    "version": 3
   },
   "file_extension": ".py",
   "mimetype": "text/x-python",
   "name": "python",
   "nbconvert_exporter": "python",
   "pygments_lexer": "ipython3",
   "version": "3.9.7"
  },
  "orig_nbformat": 4
 },
 "nbformat": 4,
 "nbformat_minor": 2
}
