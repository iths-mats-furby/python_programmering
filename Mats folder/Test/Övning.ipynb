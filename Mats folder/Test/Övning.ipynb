{
 "cells": [
  {
   "cell_type": "code",
   "execution_count": 11,
   "metadata": {},
   "outputs": [
    {
     "ename": "ImportError",
     "evalue": "cannot import name 'databashantering' from 'Test' (c:\\Users\\hjalp\\OneDrive\\Dokument\\Personligt\\Data\\EC\\Python\\Data\\git\\python_programmering\\Mats folder\\Test.py)",
     "output_type": "error",
     "traceback": [
      "\u001b[1;31m---------------------------------------------------------------------------\u001b[0m",
      "\u001b[1;31mImportError\u001b[0m                               Traceback (most recent call last)",
      "\u001b[1;32m~\\AppData\\Local\\Temp/ipykernel_19156/1493113311.py\u001b[0m in \u001b[0;36m<module>\u001b[1;34m\u001b[0m\n\u001b[0;32m      1\u001b[0m \u001b[1;32mimport\u001b[0m \u001b[0mpandas\u001b[0m \u001b[1;32mas\u001b[0m \u001b[0mpd\u001b[0m\u001b[1;33m\u001b[0m\u001b[1;33m\u001b[0m\u001b[0m\n\u001b[0;32m      2\u001b[0m \u001b[1;32mimport\u001b[0m \u001b[0msqlite3\u001b[0m\u001b[1;33m\u001b[0m\u001b[1;33m\u001b[0m\u001b[0m\n\u001b[1;32m----> 3\u001b[1;33m \u001b[1;32mfrom\u001b[0m \u001b[0mTest\u001b[0m \u001b[1;32mimport\u001b[0m \u001b[0mdatabashantering\u001b[0m\u001b[1;33m\u001b[0m\u001b[1;33m\u001b[0m\u001b[0m\n\u001b[0m\u001b[0;32m      4\u001b[0m \u001b[1;31m#from test\u001b[0m\u001b[1;33m\u001b[0m\u001b[1;33m\u001b[0m\u001b[0m\n\u001b[0;32m      5\u001b[0m \u001b[1;31m#from pathlib import Path\u001b[0m\u001b[1;33m\u001b[0m\u001b[1;33m\u001b[0m\u001b[0m\n",
      "\u001b[1;31mImportError\u001b[0m: cannot import name 'databashantering' from 'Test' (c:\\Users\\hjalp\\OneDrive\\Dokument\\Personligt\\Data\\EC\\Python\\Data\\git\\python_programmering\\Mats folder\\Test.py)"
     ]
    }
   ],
   "source": [
    "import pandas as pd\n",
    "import sqlite3\n",
    "from Test import databashantering\n",
    "#from test \n",
    "#from pathlib import Path\n",
    "\n",
    "def main():\n",
    "    db = databashantering()\n",
    "    db = pd.read_csv('vaccin_covid.csv') #seed_database()\n",
    "    #self.df = pd.read_csv('vaccin_covid.csv')\n",
    "    db.table_create_and_insert() #create_database ()\n",
    "    #db = (\"vaccin_covid.csv\")  #databashantering = sqlite3.connect(\"corona_vacc.db\") # (\"corona_vacc.db\")\n",
    "    #db = databashantering # (\"corona_vacc.db\")\n",
    "    \n",
    "    print(\"Hello main!\") # Will be printed\n",
    "    #db.create.database()\n",
    "    #vax.col()b\n",
    "#corona_vacc_df.head()\n",
    "    db.table_create_and_insert() #create_database ()\n",
    "if __name__ == \"__main__\":\n",
    "    main() # Call on the main function"
   ]
  },
  {
   "cell_type": "code",
   "execution_count": null,
   "metadata": {},
   "outputs": [],
   "source": [
    "\n",
    "def smallest(list):\n",
    "    min= list[0]\n",
    "    for i in list:\n",
    "        if i<small:\n",
    "            small=i\n",
    "    return small\n",
    "    \"\"\"De här en string som ska jämför värdena i doc stringen, \n",
    "    vi ska jämföra för att se vilket som är lägst\n",
    "    \"\"\"\n",
    "\n",
    "def main():\n",
    "    print(\"I'm in the main method\")\n",
    "    \n",
    "    a = 100\n",
    "    b = 1000\n",
    "    c = 10000\n",
    "    list = [a, b, c]\n",
    "    print(\"smallest in \",list,\"is\")\n",
    "    print(min(list))\n",
    "\n",
    "\n",
    "if __name__ == \"__main__\":\n",
    "    main() # call on the main function\n",
    "\n",
    "\n",
    "\n",
    "    \"\"\"Test.py\n",
    "\n",
    "import pandas as pd\n",
    "import sqlite3\n",
    "\n",
    "corona_vacc_df = pd.read_csv('data/vaccin_covid.csv')\n",
    "db_connect = sqlite3.connect(\"corona_vacc.db\")\n",
    "cursor = db_connect.cursor()\n",
    "corona_vacc_df.to_sql('corona_vacc', db_connect)\n",
    "print(corona_vacc_df.head)\n",
    "db_connect.commit()\n",
    "\"\"\"\n",
    "#def compare_smallest_value(first_string: int, second_string: int, third_string: int)\n",
    "    \"\"\"De här en string som ska jämför värdena i doc stringen, \n",
    "    vi ska jämföra för att se vilket som är lägst\"\"\"\n",
    "\n"
   ]
  },
  {
   "cell_type": "code",
   "execution_count": 3,
   "metadata": {},
   "outputs": [
    {
     "name": "stdout",
     "output_type": "stream",
     "text": [
      "Jane\n",
      "jane.doe@example.com\n",
      "29\n",
      "1992-03-12\n"
     ]
    }
   ],
   "source": [
    "import datetime # we will use this for date objects\n",
    "\n",
    "class Person:\n",
    "\n",
    "    def __init__(self, name, surname, birthdate, address, telephone, email):\n",
    "        self.name = name\n",
    "        self.surname = surname\n",
    "        self.birthdate = birthdate\n",
    "\n",
    "        self.address = address\n",
    "        self.telephone = telephone\n",
    "        self.email = email\n",
    "\n",
    "    def age(self):\n",
    "        today = datetime.date.today()\n",
    "        age = today.year - self.birthdate.year\n",
    "\n",
    "        if today < datetime.date(today.year, self.birthdate.month, self.birthdate.day):\n",
    "            age -= 1\n",
    "\n",
    "        return age\n",
    "\n",
    "person = Person(\n",
    "    \"Jane\",\n",
    "    \"Doe\",\n",
    "    datetime.date(1992, 3, 12), # year, month, day\n",
    "    \"No. 12 Short Street, Greenville\",\n",
    "    \"555 456 0987\",\n",
    "    \"jane.doe@example.com\"\n",
    ")\n",
    "\n",
    "print(person.name)\n",
    "print(person.email)\n",
    "print(person.age())\n",
    "\n",
    "print(person.birthdate)"
   ]
  },
  {
   "cell_type": "code",
   "execution_count": 4,
   "metadata": {},
   "outputs": [],
   "source": [
    "def age(self):\n",
    "    if hasattr(self, \"_age\"):\n",
    "        return self._age\n",
    "\n",
    "    today = datetime.date.today()\n",
    "\n",
    "    age = today.year - self.birthdate.year\n",
    "\n",
    "    if today < datetime.date(today.year, self.birthdate.month, self.birthdate.day):\n",
    "        age -= 1\n",
    "\n",
    "    self._age = age\n",
    "    return age"
   ]
  },
  {
   "cell_type": "code",
   "execution_count": 11,
   "metadata": {},
   "outputs": [
    {
     "name": "stdout",
     "output_type": "stream",
     "text": [
      "Jane\n",
      "jane.doe@example.com\n",
      "29\n",
      "1992-03-12\n"
     ]
    }
   ],
   "source": [
    "import datetime\n",
    "\n",
    "class Person:\n",
    "\n",
    "    def __init__(self, name, surname, birthdate, address, telephone, email):\n",
    "        self.name = name\n",
    "        self.surname = surname\n",
    "        self.birthdate = birthdate\n",
    "\n",
    "        self.address = address\n",
    "        self.telephone = telephone\n",
    "        self.email = email\n",
    "\n",
    "        # This isn't strictly necessary, but it clearly introduces these attributes\n",
    "        self._age = None\n",
    "        self._age_last_recalculated = None\n",
    "\n",
    "        self._recalculate_age()\n",
    "\n",
    "    def _recalculate_age(self):\n",
    "        today = datetime.date.today()\n",
    "        age = today.year - self.birthdate.year\n",
    "\n",
    "        if today < datetime.date(today.year, self.birthdate.month, self.birthdate.day):\n",
    "            age -= 1\n",
    "\n",
    "        self._age = age\n",
    "        self._age_last_recalculated = today\n",
    "\n",
    "    def age(self):\n",
    "        if (datetime.date.today() > self._age_last_recalculated):\n",
    "            self._recalculate_age()\n",
    "\n",
    "        return self._age\n",
    "\n",
    "print(person.name)\n",
    "print(person.email)\n",
    "print(person.age())\n",
    "\n",
    "print(person.birthdate)\n"
   ]
  },
  {
   "cell_type": "code",
   "execution_count": 16,
   "metadata": {},
   "outputs": [
    {
     "name": "stdout",
     "output_type": "stream",
     "text": [
      "('Dr', 'Mr', 'Mrs', 'Ms')\n"
     ]
    }
   ],
   "source": [
    "class Person:\n",
    "\n",
    "    TITLES = ('Dr', 'Mr', 'Mrs', 'Ms')\n",
    "\n",
    "    def __init__(self, title, name, surname):\n",
    "        if title not in self.TITLES:\n",
    "            raise ValueError(\"%s is not a valid title.\" % title)\n",
    "\n",
    "        self.title = title\n",
    "        self.name = name\n",
    "        self.surname = surname\n",
    "\n",
    "print(Person.TITLES)"
   ]
  },
  {
   "cell_type": "code",
   "execution_count": 17,
   "metadata": {},
   "outputs": [
    {
     "name": "stdout",
     "output_type": "stream",
     "text": [
      "['cat']\n",
      "['cat']\n"
     ]
    }
   ],
   "source": [
    "class Person:\n",
    "    pets = []\n",
    "\n",
    "    def add_pet(self, pet):\n",
    "        self.pets.append(pet)\n",
    "\n",
    "jane = Person()\n",
    "bob = Person()\n",
    "\n",
    "jane.add_pet(\"cat\")\n",
    "print(jane.pets)\n",
    "print(bob.pets) # oops!"
   ]
  },
  {
   "cell_type": "code",
   "execution_count": 19,
   "metadata": {},
   "outputs": [
    {
     "name": "stdout",
     "output_type": "stream",
     "text": [
      "['cat']\n",
      "['dog']\n"
     ]
    }
   ],
   "source": [
    "class Person:\n",
    "\n",
    "    def __init__(self):\n",
    "        self.pets = []\n",
    "\n",
    "    def add_pet(self, pet):\n",
    "        self.pets.append(pet)\n",
    "\n",
    "jane = Person()\n",
    "bob = Person()\n",
    "\n",
    "jane.add_pet(\"cat\")\n",
    "bob.add_pet(\"dog\")\n",
    "print(jane.pets)\n",
    "print(bob.pets)"
   ]
  },
  {
   "cell_type": "code",
   "execution_count": 20,
   "metadata": {},
   "outputs": [],
   "source": [
    "class Person:\n",
    "    TITLES = ('Dr', 'Mr', 'Mrs', 'Ms')\n",
    "\n",
    "    def __init__(self, title, name, surname, allowed_titles=TITLES):\n",
    "        if title not in allowed_titles:\n",
    "            raise ValueError(\"%s is not a valid title.\" % title)\n",
    "\n",
    "        self.title = title\n",
    "        self.name = name\n",
    "        self.surname = surname"
   ]
  },
  {
   "cell_type": "code",
   "execution_count": 23,
   "metadata": {},
   "outputs": [
    {
     "ename": "NameError",
     "evalue": "name 'surname' is not defined",
     "output_type": "error",
     "traceback": [
      "\u001b[1;31m---------------------------------------------------------------------------\u001b[0m",
      "\u001b[1;31mNameError\u001b[0m                                 Traceback (most recent call last)",
      "\u001b[1;32m~\\AppData\\Local\\Temp/ipykernel_21996/3126418411.py\u001b[0m in \u001b[0;36m<module>\u001b[1;34m\u001b[0m\n\u001b[0;32m      8\u001b[0m             \u001b[0mself\u001b[0m\u001b[1;33m.\u001b[0m\u001b[0mprofession\u001b[0m \u001b[1;33m=\u001b[0m \u001b[0mprofession\u001b[0m\u001b[1;33m\u001b[0m\u001b[1;33m\u001b[0m\u001b[0m\n\u001b[0;32m      9\u001b[0m \u001b[1;33m\u001b[0m\u001b[0m\n\u001b[1;32m---> 10\u001b[1;33m \u001b[0mprint\u001b[0m\u001b[1;33m(\u001b[0m\u001b[0msurname\u001b[0m\u001b[1;33m)\u001b[0m\u001b[1;33m\u001b[0m\u001b[1;33m\u001b[0m\u001b[0m\n\u001b[0m",
      "\u001b[1;31mNameError\u001b[0m: name 'surname' is not defined"
     ]
    }
   ],
   "source": [
    "class Smith:\n",
    "    surname = \"Smith\"\n",
    "    profession = \"smith\"\n",
    "\n",
    "    def __init__(self, name, profession=None):\n",
    "        self.name = name\n",
    "        if profession is not None:\n",
    "            self.profession = profession\n",
    "\n",
    "print(surname)"
   ]
  },
  {
   "cell_type": "code",
   "execution_count": null,
   "metadata": {},
   "outputs": [],
   "source": []
  }
 ],
 "metadata": {
  "interpreter": {
   "hash": "eefde1aada96a7840144b4fc32f29725d9a3acc36df636352d8f87553f2bd7d1"
  },
  "kernelspec": {
   "display_name": "Python 3.9.7 64-bit ('JUP_env': conda)",
   "language": "python",
   "name": "python3"
  },
  "language_info": {
   "codemirror_mode": {
    "name": "ipython",
    "version": 3
   },
   "file_extension": ".py",
   "mimetype": "text/x-python",
   "name": "python",
   "nbconvert_exporter": "python",
   "pygments_lexer": "ipython3",
   "version": "3.9.7"
  },
  "orig_nbformat": 4
 },
 "nbformat": 4,
 "nbformat_minor": 2
}
